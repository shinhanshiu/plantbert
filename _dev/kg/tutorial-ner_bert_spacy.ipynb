{
 "cells": [
  {
   "cell_type": "markdown",
   "metadata": {},
   "source": [
    "# __How to Fine-Tune BERT Transformer with spaCy 3__\n",
    "\n",
    "[Article](https://towardsdatascience.com/how-to-fine-tune-bert-transformer-with-spacy-3-6a90bfe57647)\n",
    "- [Github](https://github.com/UBIAI/Fine_tune_BERT_with_spacy3)\n",
    "- [follow up on NER + RE](https://towardsdatascience.com/how-to-train-a-joint-entities-and-relation-extraction-classifier-using-bert-transformer-with-spacy-49eb08d91b5c)\n",
    "\n",
    "Named entity recognition (NER)\n",
    "- Used to identify entities inside a text and store the data for advanced querying and filtering\n",
    "- [Code for finetuning BERT for NER](https://github.com/UBIAI/Fine_tune_BERT_with_spacy3)\n",
    "- not enough since we don’t know how the entities are related to each other\n",
    "  - So will have the second part later to do joint NER and relation extraction\n",
    "  - a whole new way of information retrieval through knowledge graphs\n",
    "  - can navigate across different nodes to discover hidden relationships"
   ]
  },
  {
   "cell_type": "markdown",
   "metadata": {},
   "source": [
    "## ___Setup___"
   ]
  },
  {
   "cell_type": "markdown",
   "metadata": {},
   "source": [
    "### Note\n",
    "\n",
    "The original implementation is based on older version of cuda, torch, transformer etc. I tried to use more recent versions and it works fine."
   ]
  },
  {
   "cell_type": "markdown",
   "metadata": {},
   "source": [
    "### Cuda\n",
    "\n",
    "CUDA Toolkit 11.7\n",
    "- [download configuration](https://developer.nvidia.com/cuda-11-7-1-download-archive?target_os=Linux&target_arch=x86_64&Distribution=WSL-Ubuntu&target_version=2.0&target_type=deb_network)\n",
    "- Linux, x86_64, WSL-Ubuntu, 2.0, runfile(local)\n",
    "\n",
    "```bash\n",
    "wget https://developer.download.nvidia.com/compute/cuda/11.7.1/local_installers/cuda_11.7.1_515.65.01_linux.run\n",
    "sudo sh cuda_11.7.1_515.65.01_linux.run\n",
    "```\n",
    "\n",
    "Modify `.bashrc`\n",
    " - PATH includes /usr/local/cuda/bin\n",
    " - LD_LIBRARY_PATH includes /usr/local/cuda/lib64"
   ]
  },
  {
   "cell_type": "markdown",
   "metadata": {},
   "source": [
    "### Environment\n",
    "\n",
    "```bash\n",
    "conda create -n torch_spacy python\n",
    "conda activate torch_spacy\n",
    "```"
   ]
  },
  {
   "cell_type": "markdown",
   "metadata": {},
   "source": [
    "#### spacy and transformer model\n",
    "\n",
    "Follow [this](https://spacy.io/usage#quickstart)"
   ]
  },
  {
   "cell_type": "code",
   "execution_count": 1,
   "metadata": {},
   "outputs": [
    {
     "name": "stdout",
     "output_type": "stream",
     "text": [
      "Requirement already satisfied: pip in /home/shius/miniconda3/envs/torch_spacy/lib/python3.11/site-packages (23.2.1)\n",
      "Requirement already satisfied: setuptools in /home/shius/miniconda3/envs/torch_spacy/lib/python3.11/site-packages (68.2.2)\n",
      "Requirement already satisfied: wheel in /home/shius/miniconda3/envs/torch_spacy/lib/python3.11/site-packages (0.41.2)\n",
      "Note: you may need to restart the kernel to use updated packages.\n",
      "Requirement already satisfied: spacy[cuda-autodetect,lookups,transformers] in /home/shius/miniconda3/envs/torch_spacy/lib/python3.11/site-packages (3.6.1)\n",
      "Requirement already satisfied: spacy-legacy<3.1.0,>=3.0.11 in /home/shius/miniconda3/envs/torch_spacy/lib/python3.11/site-packages (from spacy[cuda-autodetect,lookups,transformers]) (3.0.12)\n",
      "Requirement already satisfied: spacy-loggers<2.0.0,>=1.0.0 in /home/shius/miniconda3/envs/torch_spacy/lib/python3.11/site-packages (from spacy[cuda-autodetect,lookups,transformers]) (1.0.5)\n",
      "Requirement already satisfied: murmurhash<1.1.0,>=0.28.0 in /home/shius/miniconda3/envs/torch_spacy/lib/python3.11/site-packages (from spacy[cuda-autodetect,lookups,transformers]) (1.0.9)\n",
      "Requirement already satisfied: cymem<2.1.0,>=2.0.2 in /home/shius/miniconda3/envs/torch_spacy/lib/python3.11/site-packages (from spacy[cuda-autodetect,lookups,transformers]) (2.0.7)\n",
      "Requirement already satisfied: preshed<3.1.0,>=3.0.2 in /home/shius/miniconda3/envs/torch_spacy/lib/python3.11/site-packages (from spacy[cuda-autodetect,lookups,transformers]) (3.0.8)\n",
      "Requirement already satisfied: thinc<8.2.0,>=8.1.8 in /home/shius/miniconda3/envs/torch_spacy/lib/python3.11/site-packages (from spacy[cuda-autodetect,lookups,transformers]) (8.1.12)\n",
      "Requirement already satisfied: wasabi<1.2.0,>=0.9.1 in /home/shius/miniconda3/envs/torch_spacy/lib/python3.11/site-packages (from spacy[cuda-autodetect,lookups,transformers]) (1.1.2)\n",
      "Requirement already satisfied: srsly<3.0.0,>=2.4.3 in /home/shius/miniconda3/envs/torch_spacy/lib/python3.11/site-packages (from spacy[cuda-autodetect,lookups,transformers]) (2.4.7)\n",
      "Requirement already satisfied: catalogue<2.1.0,>=2.0.6 in /home/shius/miniconda3/envs/torch_spacy/lib/python3.11/site-packages (from spacy[cuda-autodetect,lookups,transformers]) (2.0.9)\n",
      "Requirement already satisfied: typer<0.10.0,>=0.3.0 in /home/shius/miniconda3/envs/torch_spacy/lib/python3.11/site-packages (from spacy[cuda-autodetect,lookups,transformers]) (0.9.0)\n",
      "Requirement already satisfied: pathy>=0.10.0 in /home/shius/miniconda3/envs/torch_spacy/lib/python3.11/site-packages (from spacy[cuda-autodetect,lookups,transformers]) (0.10.2)\n",
      "Requirement already satisfied: smart-open<7.0.0,>=5.2.1 in /home/shius/miniconda3/envs/torch_spacy/lib/python3.11/site-packages (from spacy[cuda-autodetect,lookups,transformers]) (6.4.0)\n",
      "Requirement already satisfied: tqdm<5.0.0,>=4.38.0 in /home/shius/miniconda3/envs/torch_spacy/lib/python3.11/site-packages (from spacy[cuda-autodetect,lookups,transformers]) (4.66.1)\n",
      "Requirement already satisfied: numpy>=1.15.0 in /home/shius/miniconda3/envs/torch_spacy/lib/python3.11/site-packages (from spacy[cuda-autodetect,lookups,transformers]) (1.25.2)\n",
      "Requirement already satisfied: requests<3.0.0,>=2.13.0 in /home/shius/miniconda3/envs/torch_spacy/lib/python3.11/site-packages (from spacy[cuda-autodetect,lookups,transformers]) (2.31.0)\n",
      "Requirement already satisfied: pydantic!=1.8,!=1.8.1,<3.0.0,>=1.7.4 in /home/shius/miniconda3/envs/torch_spacy/lib/python3.11/site-packages (from spacy[cuda-autodetect,lookups,transformers]) (2.3.0)\n",
      "Requirement already satisfied: jinja2 in /home/shius/miniconda3/envs/torch_spacy/lib/python3.11/site-packages (from spacy[cuda-autodetect,lookups,transformers]) (3.1.2)\n",
      "Requirement already satisfied: setuptools in /home/shius/miniconda3/envs/torch_spacy/lib/python3.11/site-packages (from spacy[cuda-autodetect,lookups,transformers]) (68.2.2)\n",
      "Requirement already satisfied: packaging>=20.0 in /home/shius/miniconda3/envs/torch_spacy/lib/python3.11/site-packages (from spacy[cuda-autodetect,lookups,transformers]) (23.1)\n",
      "Requirement already satisfied: langcodes<4.0.0,>=3.2.0 in /home/shius/miniconda3/envs/torch_spacy/lib/python3.11/site-packages (from spacy[cuda-autodetect,lookups,transformers]) (3.3.0)\n",
      "Requirement already satisfied: cupy-wheel<13.0.0,>=11.0.0 in /home/shius/miniconda3/envs/torch_spacy/lib/python3.11/site-packages (from spacy[cuda-autodetect,lookups,transformers]) (12.2.0)\n",
      "Requirement already satisfied: spacy-lookups-data<1.1.0,>=1.0.3 in /home/shius/miniconda3/envs/torch_spacy/lib/python3.11/site-packages (from spacy[cuda-autodetect,lookups,transformers]) (1.0.5)\n",
      "Requirement already satisfied: spacy-transformers<1.3.0,>=1.1.2 in /home/shius/miniconda3/envs/torch_spacy/lib/python3.11/site-packages (from spacy[cuda-autodetect,lookups,transformers]) (1.2.5)\n",
      "Requirement already satisfied: cupy-cuda11x==12.2.0 in /home/shius/miniconda3/envs/torch_spacy/lib/python3.11/site-packages (from cupy-wheel<13.0.0,>=11.0.0->spacy[cuda-autodetect,lookups,transformers]) (12.2.0)\n",
      "Requirement already satisfied: fastrlock>=0.5 in /home/shius/miniconda3/envs/torch_spacy/lib/python3.11/site-packages (from cupy-cuda11x==12.2.0->cupy-wheel<13.0.0,>=11.0.0->spacy[cuda-autodetect,lookups,transformers]) (0.8.2)\n",
      "Requirement already satisfied: annotated-types>=0.4.0 in /home/shius/miniconda3/envs/torch_spacy/lib/python3.11/site-packages (from pydantic!=1.8,!=1.8.1,<3.0.0,>=1.7.4->spacy[cuda-autodetect,lookups,transformers]) (0.5.0)\n",
      "Requirement already satisfied: pydantic-core==2.6.3 in /home/shius/miniconda3/envs/torch_spacy/lib/python3.11/site-packages (from pydantic!=1.8,!=1.8.1,<3.0.0,>=1.7.4->spacy[cuda-autodetect,lookups,transformers]) (2.6.3)\n",
      "Requirement already satisfied: typing-extensions>=4.6.1 in /home/shius/miniconda3/envs/torch_spacy/lib/python3.11/site-packages (from pydantic!=1.8,!=1.8.1,<3.0.0,>=1.7.4->spacy[cuda-autodetect,lookups,transformers]) (4.7.1)\n",
      "Requirement already satisfied: charset-normalizer<4,>=2 in /home/shius/miniconda3/envs/torch_spacy/lib/python3.11/site-packages (from requests<3.0.0,>=2.13.0->spacy[cuda-autodetect,lookups,transformers]) (3.2.0)\n",
      "Requirement already satisfied: idna<4,>=2.5 in /home/shius/miniconda3/envs/torch_spacy/lib/python3.11/site-packages (from requests<3.0.0,>=2.13.0->spacy[cuda-autodetect,lookups,transformers]) (3.4)\n",
      "Requirement already satisfied: urllib3<3,>=1.21.1 in /home/shius/miniconda3/envs/torch_spacy/lib/python3.11/site-packages (from requests<3.0.0,>=2.13.0->spacy[cuda-autodetect,lookups,transformers]) (2.0.4)\n",
      "Requirement already satisfied: certifi>=2017.4.17 in /home/shius/miniconda3/envs/torch_spacy/lib/python3.11/site-packages (from requests<3.0.0,>=2.13.0->spacy[cuda-autodetect,lookups,transformers]) (2023.7.22)\n",
      "Requirement already satisfied: transformers<4.31.0,>=3.4.0 in /home/shius/miniconda3/envs/torch_spacy/lib/python3.11/site-packages (from spacy-transformers<1.3.0,>=1.1.2->spacy[cuda-autodetect,lookups,transformers]) (4.30.2)\n",
      "Requirement already satisfied: torch>=1.8.0 in /home/shius/miniconda3/envs/torch_spacy/lib/python3.11/site-packages (from spacy-transformers<1.3.0,>=1.1.2->spacy[cuda-autodetect,lookups,transformers]) (2.0.1)\n",
      "Requirement already satisfied: spacy-alignments<1.0.0,>=0.7.2 in /home/shius/miniconda3/envs/torch_spacy/lib/python3.11/site-packages (from spacy-transformers<1.3.0,>=1.1.2->spacy[cuda-autodetect,lookups,transformers]) (0.9.0)\n",
      "Requirement already satisfied: blis<0.8.0,>=0.7.8 in /home/shius/miniconda3/envs/torch_spacy/lib/python3.11/site-packages (from thinc<8.2.0,>=8.1.8->spacy[cuda-autodetect,lookups,transformers]) (0.7.10)\n",
      "Requirement already satisfied: confection<1.0.0,>=0.0.1 in /home/shius/miniconda3/envs/torch_spacy/lib/python3.11/site-packages (from thinc<8.2.0,>=8.1.8->spacy[cuda-autodetect,lookups,transformers]) (0.1.3)\n",
      "Requirement already satisfied: click<9.0.0,>=7.1.1 in /home/shius/miniconda3/envs/torch_spacy/lib/python3.11/site-packages (from typer<0.10.0,>=0.3.0->spacy[cuda-autodetect,lookups,transformers]) (8.1.7)\n",
      "Requirement already satisfied: MarkupSafe>=2.0 in /home/shius/miniconda3/envs/torch_spacy/lib/python3.11/site-packages (from jinja2->spacy[cuda-autodetect,lookups,transformers]) (2.1.3)\n",
      "Requirement already satisfied: filelock in /home/shius/miniconda3/envs/torch_spacy/lib/python3.11/site-packages (from torch>=1.8.0->spacy-transformers<1.3.0,>=1.1.2->spacy[cuda-autodetect,lookups,transformers]) (3.12.3)\n",
      "Requirement already satisfied: sympy in /home/shius/miniconda3/envs/torch_spacy/lib/python3.11/site-packages (from torch>=1.8.0->spacy-transformers<1.3.0,>=1.1.2->spacy[cuda-autodetect,lookups,transformers]) (1.12)\n",
      "Requirement already satisfied: networkx in /home/shius/miniconda3/envs/torch_spacy/lib/python3.11/site-packages (from torch>=1.8.0->spacy-transformers<1.3.0,>=1.1.2->spacy[cuda-autodetect,lookups,transformers]) (3.1)\n",
      "Requirement already satisfied: nvidia-cuda-nvrtc-cu11==11.7.99 in /home/shius/miniconda3/envs/torch_spacy/lib/python3.11/site-packages (from torch>=1.8.0->spacy-transformers<1.3.0,>=1.1.2->spacy[cuda-autodetect,lookups,transformers]) (11.7.99)\n",
      "Requirement already satisfied: nvidia-cuda-runtime-cu11==11.7.99 in /home/shius/miniconda3/envs/torch_spacy/lib/python3.11/site-packages (from torch>=1.8.0->spacy-transformers<1.3.0,>=1.1.2->spacy[cuda-autodetect,lookups,transformers]) (11.7.99)\n",
      "Requirement already satisfied: nvidia-cuda-cupti-cu11==11.7.101 in /home/shius/miniconda3/envs/torch_spacy/lib/python3.11/site-packages (from torch>=1.8.0->spacy-transformers<1.3.0,>=1.1.2->spacy[cuda-autodetect,lookups,transformers]) (11.7.101)\n",
      "Requirement already satisfied: nvidia-cudnn-cu11==8.5.0.96 in /home/shius/miniconda3/envs/torch_spacy/lib/python3.11/site-packages (from torch>=1.8.0->spacy-transformers<1.3.0,>=1.1.2->spacy[cuda-autodetect,lookups,transformers]) (8.5.0.96)\n",
      "Requirement already satisfied: nvidia-cublas-cu11==11.10.3.66 in /home/shius/miniconda3/envs/torch_spacy/lib/python3.11/site-packages (from torch>=1.8.0->spacy-transformers<1.3.0,>=1.1.2->spacy[cuda-autodetect,lookups,transformers]) (11.10.3.66)\n",
      "Requirement already satisfied: nvidia-cufft-cu11==10.9.0.58 in /home/shius/miniconda3/envs/torch_spacy/lib/python3.11/site-packages (from torch>=1.8.0->spacy-transformers<1.3.0,>=1.1.2->spacy[cuda-autodetect,lookups,transformers]) (10.9.0.58)\n",
      "Requirement already satisfied: nvidia-curand-cu11==10.2.10.91 in /home/shius/miniconda3/envs/torch_spacy/lib/python3.11/site-packages (from torch>=1.8.0->spacy-transformers<1.3.0,>=1.1.2->spacy[cuda-autodetect,lookups,transformers]) (10.2.10.91)\n",
      "Requirement already satisfied: nvidia-cusolver-cu11==11.4.0.1 in /home/shius/miniconda3/envs/torch_spacy/lib/python3.11/site-packages (from torch>=1.8.0->spacy-transformers<1.3.0,>=1.1.2->spacy[cuda-autodetect,lookups,transformers]) (11.4.0.1)\n",
      "Requirement already satisfied: nvidia-cusparse-cu11==11.7.4.91 in /home/shius/miniconda3/envs/torch_spacy/lib/python3.11/site-packages (from torch>=1.8.0->spacy-transformers<1.3.0,>=1.1.2->spacy[cuda-autodetect,lookups,transformers]) (11.7.4.91)\n",
      "Requirement already satisfied: nvidia-nccl-cu11==2.14.3 in /home/shius/miniconda3/envs/torch_spacy/lib/python3.11/site-packages (from torch>=1.8.0->spacy-transformers<1.3.0,>=1.1.2->spacy[cuda-autodetect,lookups,transformers]) (2.14.3)\n",
      "Requirement already satisfied: nvidia-nvtx-cu11==11.7.91 in /home/shius/miniconda3/envs/torch_spacy/lib/python3.11/site-packages (from torch>=1.8.0->spacy-transformers<1.3.0,>=1.1.2->spacy[cuda-autodetect,lookups,transformers]) (11.7.91)\n",
      "Requirement already satisfied: triton==2.0.0 in /home/shius/miniconda3/envs/torch_spacy/lib/python3.11/site-packages (from torch>=1.8.0->spacy-transformers<1.3.0,>=1.1.2->spacy[cuda-autodetect,lookups,transformers]) (2.0.0)\n",
      "Requirement already satisfied: wheel in /home/shius/miniconda3/envs/torch_spacy/lib/python3.11/site-packages (from nvidia-cublas-cu11==11.10.3.66->torch>=1.8.0->spacy-transformers<1.3.0,>=1.1.2->spacy[cuda-autodetect,lookups,transformers]) (0.41.2)\n",
      "Requirement already satisfied: cmake in /home/shius/miniconda3/envs/torch_spacy/lib/python3.11/site-packages (from triton==2.0.0->torch>=1.8.0->spacy-transformers<1.3.0,>=1.1.2->spacy[cuda-autodetect,lookups,transformers]) (3.27.4.1)\n",
      "Requirement already satisfied: lit in /home/shius/miniconda3/envs/torch_spacy/lib/python3.11/site-packages (from triton==2.0.0->torch>=1.8.0->spacy-transformers<1.3.0,>=1.1.2->spacy[cuda-autodetect,lookups,transformers]) (16.0.6)\n",
      "Requirement already satisfied: huggingface-hub<1.0,>=0.14.1 in /home/shius/miniconda3/envs/torch_spacy/lib/python3.11/site-packages (from transformers<4.31.0,>=3.4.0->spacy-transformers<1.3.0,>=1.1.2->spacy[cuda-autodetect,lookups,transformers]) (0.17.1)\n",
      "Requirement already satisfied: pyyaml>=5.1 in /home/shius/miniconda3/envs/torch_spacy/lib/python3.11/site-packages (from transformers<4.31.0,>=3.4.0->spacy-transformers<1.3.0,>=1.1.2->spacy[cuda-autodetect,lookups,transformers]) (6.0.1)\n",
      "Requirement already satisfied: regex!=2019.12.17 in /home/shius/miniconda3/envs/torch_spacy/lib/python3.11/site-packages (from transformers<4.31.0,>=3.4.0->spacy-transformers<1.3.0,>=1.1.2->spacy[cuda-autodetect,lookups,transformers]) (2023.8.8)\n",
      "Requirement already satisfied: tokenizers!=0.11.3,<0.14,>=0.11.1 in /home/shius/miniconda3/envs/torch_spacy/lib/python3.11/site-packages (from transformers<4.31.0,>=3.4.0->spacy-transformers<1.3.0,>=1.1.2->spacy[cuda-autodetect,lookups,transformers]) (0.13.3)\n",
      "Requirement already satisfied: safetensors>=0.3.1 in /home/shius/miniconda3/envs/torch_spacy/lib/python3.11/site-packages (from transformers<4.31.0,>=3.4.0->spacy-transformers<1.3.0,>=1.1.2->spacy[cuda-autodetect,lookups,transformers]) (0.3.3)\n",
      "Requirement already satisfied: fsspec in /home/shius/miniconda3/envs/torch_spacy/lib/python3.11/site-packages (from huggingface-hub<1.0,>=0.14.1->transformers<4.31.0,>=3.4.0->spacy-transformers<1.3.0,>=1.1.2->spacy[cuda-autodetect,lookups,transformers]) (2023.9.0)\n",
      "Requirement already satisfied: mpmath>=0.19 in /home/shius/miniconda3/envs/torch_spacy/lib/python3.11/site-packages (from sympy->torch>=1.8.0->spacy-transformers<1.3.0,>=1.1.2->spacy[cuda-autodetect,lookups,transformers]) (1.3.0)\n",
      "Note: you may need to restart the kernel to use updated packages.\n",
      "Collecting en-core-web-trf==3.6.1\n",
      "  Downloading https://github.com/explosion/spacy-models/releases/download/en_core_web_trf-3.6.1/en_core_web_trf-3.6.1-py3-none-any.whl (460.3 MB)\n",
      "\u001b[2K     \u001b[90m━━━━━━━━━━━━━━━━━━━━━━━━━━━━━━━━━━━━━━━\u001b[0m \u001b[32m460.3/460.3 MB\u001b[0m \u001b[31m8.9 MB/s\u001b[0m eta \u001b[36m0:00:00\u001b[0m00:01\u001b[0m00:01\u001b[0m\n",
      "\u001b[?25hRequirement already satisfied: spacy<3.7.0,>=3.6.0 in /home/shius/miniconda3/envs/torch_spacy/lib/python3.11/site-packages (from en-core-web-trf==3.6.1) (3.6.1)\n",
      "Requirement already satisfied: spacy-transformers<1.3.0,>=1.2.2 in /home/shius/miniconda3/envs/torch_spacy/lib/python3.11/site-packages (from en-core-web-trf==3.6.1) (1.2.5)\n",
      "Requirement already satisfied: spacy-legacy<3.1.0,>=3.0.11 in /home/shius/miniconda3/envs/torch_spacy/lib/python3.11/site-packages (from spacy<3.7.0,>=3.6.0->en-core-web-trf==3.6.1) (3.0.12)\n",
      "Requirement already satisfied: spacy-loggers<2.0.0,>=1.0.0 in /home/shius/miniconda3/envs/torch_spacy/lib/python3.11/site-packages (from spacy<3.7.0,>=3.6.0->en-core-web-trf==3.6.1) (1.0.5)\n",
      "Requirement already satisfied: murmurhash<1.1.0,>=0.28.0 in /home/shius/miniconda3/envs/torch_spacy/lib/python3.11/site-packages (from spacy<3.7.0,>=3.6.0->en-core-web-trf==3.6.1) (1.0.9)\n",
      "Requirement already satisfied: cymem<2.1.0,>=2.0.2 in /home/shius/miniconda3/envs/torch_spacy/lib/python3.11/site-packages (from spacy<3.7.0,>=3.6.0->en-core-web-trf==3.6.1) (2.0.7)\n",
      "Requirement already satisfied: preshed<3.1.0,>=3.0.2 in /home/shius/miniconda3/envs/torch_spacy/lib/python3.11/site-packages (from spacy<3.7.0,>=3.6.0->en-core-web-trf==3.6.1) (3.0.8)\n",
      "Requirement already satisfied: thinc<8.2.0,>=8.1.8 in /home/shius/miniconda3/envs/torch_spacy/lib/python3.11/site-packages (from spacy<3.7.0,>=3.6.0->en-core-web-trf==3.6.1) (8.1.12)\n",
      "Requirement already satisfied: wasabi<1.2.0,>=0.9.1 in /home/shius/miniconda3/envs/torch_spacy/lib/python3.11/site-packages (from spacy<3.7.0,>=3.6.0->en-core-web-trf==3.6.1) (1.1.2)\n",
      "Requirement already satisfied: srsly<3.0.0,>=2.4.3 in /home/shius/miniconda3/envs/torch_spacy/lib/python3.11/site-packages (from spacy<3.7.0,>=3.6.0->en-core-web-trf==3.6.1) (2.4.7)\n",
      "Requirement already satisfied: catalogue<2.1.0,>=2.0.6 in /home/shius/miniconda3/envs/torch_spacy/lib/python3.11/site-packages (from spacy<3.7.0,>=3.6.0->en-core-web-trf==3.6.1) (2.0.9)\n",
      "Requirement already satisfied: typer<0.10.0,>=0.3.0 in /home/shius/miniconda3/envs/torch_spacy/lib/python3.11/site-packages (from spacy<3.7.0,>=3.6.0->en-core-web-trf==3.6.1) (0.9.0)\n",
      "Requirement already satisfied: pathy>=0.10.0 in /home/shius/miniconda3/envs/torch_spacy/lib/python3.11/site-packages (from spacy<3.7.0,>=3.6.0->en-core-web-trf==3.6.1) (0.10.2)\n",
      "Requirement already satisfied: smart-open<7.0.0,>=5.2.1 in /home/shius/miniconda3/envs/torch_spacy/lib/python3.11/site-packages (from spacy<3.7.0,>=3.6.0->en-core-web-trf==3.6.1) (6.4.0)\n",
      "Requirement already satisfied: tqdm<5.0.0,>=4.38.0 in /home/shius/miniconda3/envs/torch_spacy/lib/python3.11/site-packages (from spacy<3.7.0,>=3.6.0->en-core-web-trf==3.6.1) (4.66.1)\n",
      "Requirement already satisfied: numpy>=1.15.0 in /home/shius/miniconda3/envs/torch_spacy/lib/python3.11/site-packages (from spacy<3.7.0,>=3.6.0->en-core-web-trf==3.6.1) (1.25.2)\n",
      "Requirement already satisfied: requests<3.0.0,>=2.13.0 in /home/shius/miniconda3/envs/torch_spacy/lib/python3.11/site-packages (from spacy<3.7.0,>=3.6.0->en-core-web-trf==3.6.1) (2.31.0)\n",
      "Requirement already satisfied: pydantic!=1.8,!=1.8.1,<3.0.0,>=1.7.4 in /home/shius/miniconda3/envs/torch_spacy/lib/python3.11/site-packages (from spacy<3.7.0,>=3.6.0->en-core-web-trf==3.6.1) (2.3.0)\n",
      "Requirement already satisfied: jinja2 in /home/shius/miniconda3/envs/torch_spacy/lib/python3.11/site-packages (from spacy<3.7.0,>=3.6.0->en-core-web-trf==3.6.1) (3.1.2)\n",
      "Requirement already satisfied: setuptools in /home/shius/miniconda3/envs/torch_spacy/lib/python3.11/site-packages (from spacy<3.7.0,>=3.6.0->en-core-web-trf==3.6.1) (68.2.2)\n",
      "Requirement already satisfied: packaging>=20.0 in /home/shius/miniconda3/envs/torch_spacy/lib/python3.11/site-packages (from spacy<3.7.0,>=3.6.0->en-core-web-trf==3.6.1) (23.1)\n",
      "Requirement already satisfied: langcodes<4.0.0,>=3.2.0 in /home/shius/miniconda3/envs/torch_spacy/lib/python3.11/site-packages (from spacy<3.7.0,>=3.6.0->en-core-web-trf==3.6.1) (3.3.0)\n",
      "Requirement already satisfied: transformers<4.31.0,>=3.4.0 in /home/shius/miniconda3/envs/torch_spacy/lib/python3.11/site-packages (from spacy-transformers<1.3.0,>=1.2.2->en-core-web-trf==3.6.1) (4.30.2)\n",
      "Requirement already satisfied: torch>=1.8.0 in /home/shius/miniconda3/envs/torch_spacy/lib/python3.11/site-packages (from spacy-transformers<1.3.0,>=1.2.2->en-core-web-trf==3.6.1) (2.0.1)\n",
      "Requirement already satisfied: spacy-alignments<1.0.0,>=0.7.2 in /home/shius/miniconda3/envs/torch_spacy/lib/python3.11/site-packages (from spacy-transformers<1.3.0,>=1.2.2->en-core-web-trf==3.6.1) (0.9.0)\n",
      "Requirement already satisfied: annotated-types>=0.4.0 in /home/shius/miniconda3/envs/torch_spacy/lib/python3.11/site-packages (from pydantic!=1.8,!=1.8.1,<3.0.0,>=1.7.4->spacy<3.7.0,>=3.6.0->en-core-web-trf==3.6.1) (0.5.0)\n",
      "Requirement already satisfied: pydantic-core==2.6.3 in /home/shius/miniconda3/envs/torch_spacy/lib/python3.11/site-packages (from pydantic!=1.8,!=1.8.1,<3.0.0,>=1.7.4->spacy<3.7.0,>=3.6.0->en-core-web-trf==3.6.1) (2.6.3)\n",
      "Requirement already satisfied: typing-extensions>=4.6.1 in /home/shius/miniconda3/envs/torch_spacy/lib/python3.11/site-packages (from pydantic!=1.8,!=1.8.1,<3.0.0,>=1.7.4->spacy<3.7.0,>=3.6.0->en-core-web-trf==3.6.1) (4.7.1)\n",
      "Requirement already satisfied: charset-normalizer<4,>=2 in /home/shius/miniconda3/envs/torch_spacy/lib/python3.11/site-packages (from requests<3.0.0,>=2.13.0->spacy<3.7.0,>=3.6.0->en-core-web-trf==3.6.1) (3.2.0)\n",
      "Requirement already satisfied: idna<4,>=2.5 in /home/shius/miniconda3/envs/torch_spacy/lib/python3.11/site-packages (from requests<3.0.0,>=2.13.0->spacy<3.7.0,>=3.6.0->en-core-web-trf==3.6.1) (3.4)\n",
      "Requirement already satisfied: urllib3<3,>=1.21.1 in /home/shius/miniconda3/envs/torch_spacy/lib/python3.11/site-packages (from requests<3.0.0,>=2.13.0->spacy<3.7.0,>=3.6.0->en-core-web-trf==3.6.1) (2.0.4)\n",
      "Requirement already satisfied: certifi>=2017.4.17 in /home/shius/miniconda3/envs/torch_spacy/lib/python3.11/site-packages (from requests<3.0.0,>=2.13.0->spacy<3.7.0,>=3.6.0->en-core-web-trf==3.6.1) (2023.7.22)\n",
      "Requirement already satisfied: blis<0.8.0,>=0.7.8 in /home/shius/miniconda3/envs/torch_spacy/lib/python3.11/site-packages (from thinc<8.2.0,>=8.1.8->spacy<3.7.0,>=3.6.0->en-core-web-trf==3.6.1) (0.7.10)\n",
      "Requirement already satisfied: confection<1.0.0,>=0.0.1 in /home/shius/miniconda3/envs/torch_spacy/lib/python3.11/site-packages (from thinc<8.2.0,>=8.1.8->spacy<3.7.0,>=3.6.0->en-core-web-trf==3.6.1) (0.1.3)\n",
      "Requirement already satisfied: filelock in /home/shius/miniconda3/envs/torch_spacy/lib/python3.11/site-packages (from torch>=1.8.0->spacy-transformers<1.3.0,>=1.2.2->en-core-web-trf==3.6.1) (3.12.3)\n",
      "Requirement already satisfied: sympy in /home/shius/miniconda3/envs/torch_spacy/lib/python3.11/site-packages (from torch>=1.8.0->spacy-transformers<1.3.0,>=1.2.2->en-core-web-trf==3.6.1) (1.12)\n",
      "Requirement already satisfied: networkx in /home/shius/miniconda3/envs/torch_spacy/lib/python3.11/site-packages (from torch>=1.8.0->spacy-transformers<1.3.0,>=1.2.2->en-core-web-trf==3.6.1) (3.1)\n",
      "Requirement already satisfied: nvidia-cuda-nvrtc-cu11==11.7.99 in /home/shius/miniconda3/envs/torch_spacy/lib/python3.11/site-packages (from torch>=1.8.0->spacy-transformers<1.3.0,>=1.2.2->en-core-web-trf==3.6.1) (11.7.99)\n",
      "Requirement already satisfied: nvidia-cuda-runtime-cu11==11.7.99 in /home/shius/miniconda3/envs/torch_spacy/lib/python3.11/site-packages (from torch>=1.8.0->spacy-transformers<1.3.0,>=1.2.2->en-core-web-trf==3.6.1) (11.7.99)\n",
      "Requirement already satisfied: nvidia-cuda-cupti-cu11==11.7.101 in /home/shius/miniconda3/envs/torch_spacy/lib/python3.11/site-packages (from torch>=1.8.0->spacy-transformers<1.3.0,>=1.2.2->en-core-web-trf==3.6.1) (11.7.101)\n",
      "Requirement already satisfied: nvidia-cudnn-cu11==8.5.0.96 in /home/shius/miniconda3/envs/torch_spacy/lib/python3.11/site-packages (from torch>=1.8.0->spacy-transformers<1.3.0,>=1.2.2->en-core-web-trf==3.6.1) (8.5.0.96)\n",
      "Requirement already satisfied: nvidia-cublas-cu11==11.10.3.66 in /home/shius/miniconda3/envs/torch_spacy/lib/python3.11/site-packages (from torch>=1.8.0->spacy-transformers<1.3.0,>=1.2.2->en-core-web-trf==3.6.1) (11.10.3.66)\n",
      "Requirement already satisfied: nvidia-cufft-cu11==10.9.0.58 in /home/shius/miniconda3/envs/torch_spacy/lib/python3.11/site-packages (from torch>=1.8.0->spacy-transformers<1.3.0,>=1.2.2->en-core-web-trf==3.6.1) (10.9.0.58)\n",
      "Requirement already satisfied: nvidia-curand-cu11==10.2.10.91 in /home/shius/miniconda3/envs/torch_spacy/lib/python3.11/site-packages (from torch>=1.8.0->spacy-transformers<1.3.0,>=1.2.2->en-core-web-trf==3.6.1) (10.2.10.91)\n",
      "Requirement already satisfied: nvidia-cusolver-cu11==11.4.0.1 in /home/shius/miniconda3/envs/torch_spacy/lib/python3.11/site-packages (from torch>=1.8.0->spacy-transformers<1.3.0,>=1.2.2->en-core-web-trf==3.6.1) (11.4.0.1)\n",
      "Requirement already satisfied: nvidia-cusparse-cu11==11.7.4.91 in /home/shius/miniconda3/envs/torch_spacy/lib/python3.11/site-packages (from torch>=1.8.0->spacy-transformers<1.3.0,>=1.2.2->en-core-web-trf==3.6.1) (11.7.4.91)\n",
      "Requirement already satisfied: nvidia-nccl-cu11==2.14.3 in /home/shius/miniconda3/envs/torch_spacy/lib/python3.11/site-packages (from torch>=1.8.0->spacy-transformers<1.3.0,>=1.2.2->en-core-web-trf==3.6.1) (2.14.3)\n",
      "Requirement already satisfied: nvidia-nvtx-cu11==11.7.91 in /home/shius/miniconda3/envs/torch_spacy/lib/python3.11/site-packages (from torch>=1.8.0->spacy-transformers<1.3.0,>=1.2.2->en-core-web-trf==3.6.1) (11.7.91)\n",
      "Requirement already satisfied: triton==2.0.0 in /home/shius/miniconda3/envs/torch_spacy/lib/python3.11/site-packages (from torch>=1.8.0->spacy-transformers<1.3.0,>=1.2.2->en-core-web-trf==3.6.1) (2.0.0)\n",
      "Requirement already satisfied: wheel in /home/shius/miniconda3/envs/torch_spacy/lib/python3.11/site-packages (from nvidia-cublas-cu11==11.10.3.66->torch>=1.8.0->spacy-transformers<1.3.0,>=1.2.2->en-core-web-trf==3.6.1) (0.41.2)\n",
      "Requirement already satisfied: cmake in /home/shius/miniconda3/envs/torch_spacy/lib/python3.11/site-packages (from triton==2.0.0->torch>=1.8.0->spacy-transformers<1.3.0,>=1.2.2->en-core-web-trf==3.6.1) (3.27.4.1)\n",
      "Requirement already satisfied: lit in /home/shius/miniconda3/envs/torch_spacy/lib/python3.11/site-packages (from triton==2.0.0->torch>=1.8.0->spacy-transformers<1.3.0,>=1.2.2->en-core-web-trf==3.6.1) (16.0.6)\n",
      "Requirement already satisfied: huggingface-hub<1.0,>=0.14.1 in /home/shius/miniconda3/envs/torch_spacy/lib/python3.11/site-packages (from transformers<4.31.0,>=3.4.0->spacy-transformers<1.3.0,>=1.2.2->en-core-web-trf==3.6.1) (0.17.1)\n",
      "Requirement already satisfied: pyyaml>=5.1 in /home/shius/miniconda3/envs/torch_spacy/lib/python3.11/site-packages (from transformers<4.31.0,>=3.4.0->spacy-transformers<1.3.0,>=1.2.2->en-core-web-trf==3.6.1) (6.0.1)\n",
      "Requirement already satisfied: regex!=2019.12.17 in /home/shius/miniconda3/envs/torch_spacy/lib/python3.11/site-packages (from transformers<4.31.0,>=3.4.0->spacy-transformers<1.3.0,>=1.2.2->en-core-web-trf==3.6.1) (2023.8.8)\n",
      "Requirement already satisfied: tokenizers!=0.11.3,<0.14,>=0.11.1 in /home/shius/miniconda3/envs/torch_spacy/lib/python3.11/site-packages (from transformers<4.31.0,>=3.4.0->spacy-transformers<1.3.0,>=1.2.2->en-core-web-trf==3.6.1) (0.13.3)\n",
      "Requirement already satisfied: safetensors>=0.3.1 in /home/shius/miniconda3/envs/torch_spacy/lib/python3.11/site-packages (from transformers<4.31.0,>=3.4.0->spacy-transformers<1.3.0,>=1.2.2->en-core-web-trf==3.6.1) (0.3.3)\n",
      "Requirement already satisfied: click<9.0.0,>=7.1.1 in /home/shius/miniconda3/envs/torch_spacy/lib/python3.11/site-packages (from typer<0.10.0,>=0.3.0->spacy<3.7.0,>=3.6.0->en-core-web-trf==3.6.1) (8.1.7)\n",
      "Requirement already satisfied: MarkupSafe>=2.0 in /home/shius/miniconda3/envs/torch_spacy/lib/python3.11/site-packages (from jinja2->spacy<3.7.0,>=3.6.0->en-core-web-trf==3.6.1) (2.1.3)\n",
      "Requirement already satisfied: fsspec in /home/shius/miniconda3/envs/torch_spacy/lib/python3.11/site-packages (from huggingface-hub<1.0,>=0.14.1->transformers<4.31.0,>=3.4.0->spacy-transformers<1.3.0,>=1.2.2->en-core-web-trf==3.6.1) (2023.9.0)\n",
      "Requirement already satisfied: mpmath>=0.19 in /home/shius/miniconda3/envs/torch_spacy/lib/python3.11/site-packages (from sympy->torch>=1.8.0->spacy-transformers<1.3.0,>=1.2.2->en-core-web-trf==3.6.1) (1.3.0)\n",
      "\u001b[38;5;2m✔ Download and installation successful\u001b[0m\n",
      "You can now load the package via spacy.load('en_core_web_trf')\n"
     ]
    }
   ],
   "source": [
    "%pip install -U pip setuptools wheel\n",
    "%pip install -U 'spacy[cuda-autodetect,transformers,lookups]'\n",
    "!python -m spacy download en_core_web_trf"
   ]
  },
  {
   "cell_type": "markdown",
   "metadata": {},
   "source": [
    "#### Pytorch\n",
    "\n",
    "Follow [this](https://pytorch.org/get-started/locally/)\n",
    "- For cuda 11.7, ubuntu"
   ]
  },
  {
   "cell_type": "code",
   "execution_count": 2,
   "metadata": {},
   "outputs": [
    {
     "name": "stdout",
     "output_type": "stream",
     "text": [
      "Requirement already satisfied: torch in /home/shius/miniconda3/envs/torch_spacy/lib/python3.11/site-packages (2.0.1)\n",
      "Requirement already satisfied: torchvision in /home/shius/miniconda3/envs/torch_spacy/lib/python3.11/site-packages (0.15.2)\n",
      "Requirement already satisfied: torchaudio in /home/shius/miniconda3/envs/torch_spacy/lib/python3.11/site-packages (2.0.2)\n",
      "Requirement already satisfied: filelock in /home/shius/miniconda3/envs/torch_spacy/lib/python3.11/site-packages (from torch) (3.12.3)\n",
      "Requirement already satisfied: typing-extensions in /home/shius/miniconda3/envs/torch_spacy/lib/python3.11/site-packages (from torch) (4.7.1)\n",
      "Requirement already satisfied: sympy in /home/shius/miniconda3/envs/torch_spacy/lib/python3.11/site-packages (from torch) (1.12)\n",
      "Requirement already satisfied: networkx in /home/shius/miniconda3/envs/torch_spacy/lib/python3.11/site-packages (from torch) (3.1)\n",
      "Requirement already satisfied: jinja2 in /home/shius/miniconda3/envs/torch_spacy/lib/python3.11/site-packages (from torch) (3.1.2)\n",
      "Requirement already satisfied: nvidia-cuda-nvrtc-cu11==11.7.99 in /home/shius/miniconda3/envs/torch_spacy/lib/python3.11/site-packages (from torch) (11.7.99)\n",
      "Requirement already satisfied: nvidia-cuda-runtime-cu11==11.7.99 in /home/shius/miniconda3/envs/torch_spacy/lib/python3.11/site-packages (from torch) (11.7.99)\n",
      "Requirement already satisfied: nvidia-cuda-cupti-cu11==11.7.101 in /home/shius/miniconda3/envs/torch_spacy/lib/python3.11/site-packages (from torch) (11.7.101)\n",
      "Requirement already satisfied: nvidia-cudnn-cu11==8.5.0.96 in /home/shius/miniconda3/envs/torch_spacy/lib/python3.11/site-packages (from torch) (8.5.0.96)\n",
      "Requirement already satisfied: nvidia-cublas-cu11==11.10.3.66 in /home/shius/miniconda3/envs/torch_spacy/lib/python3.11/site-packages (from torch) (11.10.3.66)\n",
      "Requirement already satisfied: nvidia-cufft-cu11==10.9.0.58 in /home/shius/miniconda3/envs/torch_spacy/lib/python3.11/site-packages (from torch) (10.9.0.58)\n",
      "Requirement already satisfied: nvidia-curand-cu11==10.2.10.91 in /home/shius/miniconda3/envs/torch_spacy/lib/python3.11/site-packages (from torch) (10.2.10.91)\n",
      "Requirement already satisfied: nvidia-cusolver-cu11==11.4.0.1 in /home/shius/miniconda3/envs/torch_spacy/lib/python3.11/site-packages (from torch) (11.4.0.1)\n",
      "Requirement already satisfied: nvidia-cusparse-cu11==11.7.4.91 in /home/shius/miniconda3/envs/torch_spacy/lib/python3.11/site-packages (from torch) (11.7.4.91)\n",
      "Requirement already satisfied: nvidia-nccl-cu11==2.14.3 in /home/shius/miniconda3/envs/torch_spacy/lib/python3.11/site-packages (from torch) (2.14.3)\n",
      "Requirement already satisfied: nvidia-nvtx-cu11==11.7.91 in /home/shius/miniconda3/envs/torch_spacy/lib/python3.11/site-packages (from torch) (11.7.91)\n",
      "Requirement already satisfied: triton==2.0.0 in /home/shius/miniconda3/envs/torch_spacy/lib/python3.11/site-packages (from torch) (2.0.0)\n",
      "Requirement already satisfied: setuptools in /home/shius/miniconda3/envs/torch_spacy/lib/python3.11/site-packages (from nvidia-cublas-cu11==11.10.3.66->torch) (68.2.2)\n",
      "Requirement already satisfied: wheel in /home/shius/miniconda3/envs/torch_spacy/lib/python3.11/site-packages (from nvidia-cublas-cu11==11.10.3.66->torch) (0.41.2)\n",
      "Requirement already satisfied: cmake in /home/shius/miniconda3/envs/torch_spacy/lib/python3.11/site-packages (from triton==2.0.0->torch) (3.27.4.1)\n",
      "Requirement already satisfied: lit in /home/shius/miniconda3/envs/torch_spacy/lib/python3.11/site-packages (from triton==2.0.0->torch) (16.0.6)\n",
      "Requirement already satisfied: numpy in /home/shius/miniconda3/envs/torch_spacy/lib/python3.11/site-packages (from torchvision) (1.25.2)\n",
      "Requirement already satisfied: requests in /home/shius/miniconda3/envs/torch_spacy/lib/python3.11/site-packages (from torchvision) (2.31.0)\n",
      "Requirement already satisfied: pillow!=8.3.*,>=5.3.0 in /home/shius/miniconda3/envs/torch_spacy/lib/python3.11/site-packages (from torchvision) (10.0.0)\n",
      "Requirement already satisfied: MarkupSafe>=2.0 in /home/shius/miniconda3/envs/torch_spacy/lib/python3.11/site-packages (from jinja2->torch) (2.1.3)\n",
      "Requirement already satisfied: charset-normalizer<4,>=2 in /home/shius/miniconda3/envs/torch_spacy/lib/python3.11/site-packages (from requests->torchvision) (3.2.0)\n",
      "Requirement already satisfied: idna<4,>=2.5 in /home/shius/miniconda3/envs/torch_spacy/lib/python3.11/site-packages (from requests->torchvision) (3.4)\n",
      "Requirement already satisfied: urllib3<3,>=1.21.1 in /home/shius/miniconda3/envs/torch_spacy/lib/python3.11/site-packages (from requests->torchvision) (2.0.4)\n",
      "Requirement already satisfied: certifi>=2017.4.17 in /home/shius/miniconda3/envs/torch_spacy/lib/python3.11/site-packages (from requests->torchvision) (2023.7.22)\n",
      "Requirement already satisfied: mpmath>=0.19 in /home/shius/miniconda3/envs/torch_spacy/lib/python3.11/site-packages (from sympy->torch) (1.3.0)\n",
      "Note: you may need to restart the kernel to use updated packages.\n"
     ]
    }
   ],
   "source": [
    "%pip install torch torchvision torchaudio"
   ]
  },
  {
   "cell_type": "markdown",
   "metadata": {},
   "source": [
    "#### cupy\n",
    "\n",
    "CuPy is a NumPy/SciPy-compatible array library for GPU-accelerated computing with Python. \n",
    "- [Install](https://docs.cupy.dev/en/stable/install.html#install-cupy-with-cuda)\n",
    "- If I don't specify the environmental variable, it won't work."
   ]
  },
  {
   "cell_type": "code",
   "execution_count": 3,
   "metadata": {},
   "outputs": [
    {
     "name": "stdout",
     "output_type": "stream",
     "text": [
      "Requirement already satisfied: setuptools in /home/shius/miniconda3/envs/torch_spacy/lib/python3.11/site-packages (68.2.2)\n",
      "Requirement already satisfied: pip in /home/shius/miniconda3/envs/torch_spacy/lib/python3.11/site-packages (23.2.1)\n",
      "Requirement already satisfied: cupy-cuda11x in /home/shius/miniconda3/envs/torch_spacy/lib/python3.11/site-packages (12.2.0)\n",
      "Requirement already satisfied: numpy<1.27,>=1.20 in /home/shius/miniconda3/envs/torch_spacy/lib/python3.11/site-packages (from cupy-cuda11x) (1.25.2)\n",
      "Requirement already satisfied: fastrlock>=0.5 in /home/shius/miniconda3/envs/torch_spacy/lib/python3.11/site-packages (from cupy-cuda11x) (0.8.2)\n",
      "Note: you may need to restart the kernel to use updated packages.\n"
     ]
    }
   ],
   "source": [
    "!python -m pip install -U setuptools pip\n",
    "!export CUDA_PATH=\"/usr/local/cuda\"\n",
    "%pip install cupy-cuda11x"
   ]
  },
  {
   "cell_type": "markdown",
   "metadata": {},
   "source": [
    "### Import packages"
   ]
  },
  {
   "cell_type": "code",
   "execution_count": 9,
   "metadata": {},
   "outputs": [],
   "source": [
    "import os, spacy\n",
    "from pathlib import Path\n",
    "from shutil import copy\n",
    "from torch import cuda"
   ]
  },
  {
   "cell_type": "markdown",
   "metadata": {},
   "source": [
    "### Set up working directories"
   ]
  },
  {
   "cell_type": "code",
   "execution_count": 5,
   "metadata": {},
   "outputs": [
    {
     "data": {
      "text/plain": [
       "'/home/shius/proj_local/joint_ner_re'"
      ]
     },
     "execution_count": 5,
     "metadata": {},
     "output_type": "execute_result"
    }
   ],
   "source": [
    "work_dir = Path.home() / \"proj_local/joint_ner_re\"\n",
    "work_dir.mkdir(parents=True, exist_ok=True)\n",
    "\n",
    "# For NER\n",
    "data_dir = work_dir / \"data\"\n",
    "\n",
    "os.chdir(work_dir)\n",
    "os.getcwd()"
   ]
  },
  {
   "cell_type": "markdown",
   "metadata": {},
   "source": [
    "## ___Data___"
   ]
  },
  {
   "cell_type": "markdown",
   "metadata": {},
   "source": [
    "### Data labeling and download\n",
    "\n",
    "Used [UBIAI](https://ubiai.tools/) for annotation\n",
    "- ___BUT THIS TOOL COSTS___\n",
    "- [Tutorial](https://chatbotslife.com/introducing-ubiai-easy-to-use-text-annotation-for-nlp-applications-74a2401fa725)\n",
    "- Using the regular expression feature in UBIAI, I have pre-annotated all the experience mentions that follows the pattern “\\d.*\\+.*” such as “5 + years of experience in C++”. \n",
    "- Uploaded a csv dictionary containing all the software languages and assigned the entity skills.\n",
    "- The pre-annotation saves a lot of time and will help you minimize manual annotation.\n",
    "\n",
    "Data files are in [this repo](https://github.com/UBIAI/Fine_tune_BERT_with_spacy3)\n",
    "- In [IOB format](https://www.geeksforgeeks.org/nlp-iob-tags/)\n",
    "  - denote the (I)nside, (O)utside, and (B)eginning of a chunk\n",
    "\n",
    "E.g., the tsv for the repo\n",
    "```\n",
    "will    O\n",
    "have    O\n",
    ":       O\n",
    "5       B-EXPERIENCE\n",
    "+       I-EXPERIENCE\n",
    "years   I-EXPERIENCE\n",
    "of      O\n",
    "industry        B-SKILLS\n",
    "experience      O\n",
    "developing      B-SKILLS\n",
    "and     I-SKILLS\n",
    "implementing    I-SKILLS\n",
    "tools   I-SKILLS\n",
    "and     O\n",
    "applications    O\n",
    "```"
   ]
  },
  {
   "cell_type": "code",
   "execution_count": 5,
   "metadata": {},
   "outputs": [
    {
     "name": "stdout",
     "output_type": "stream",
     "text": [
      "Cloning into 'Fine_tune_BERT_with_spacy3'...\n",
      "remote: Enumerating objects: 19, done.\u001b[K\n",
      "remote: Counting objects: 100% (19/19), done.\u001b[K\n",
      "remote: Compressing objects: 100% (16/16), done.\u001b[K\n",
      "remote: Total 19 (delta 3), reused 2 (delta 0), pack-reused 0\u001b[K\n",
      "Unpacking objects: 100% (19/19), 48.40 KiB | 707.00 KiB/s, done.\n"
     ]
    }
   ],
   "source": [
    "!git clone https://github.com/UBIAI/Fine_tune_BERT_with_spacy3.git"
   ]
  },
  {
   "cell_type": "code",
   "execution_count": 7,
   "metadata": {},
   "outputs": [],
   "source": [
    "os.rename(\"Fine_tune_BERT_with_spacy3\", \"data\")"
   ]
  },
  {
   "cell_type": "markdown",
   "metadata": {},
   "source": [
    "### Format data\n",
    "\n",
    "Provide training and dev data in spaCy 3 JSON format\n",
    "- which will be then converted to a .spacy binary file.\n",
    "- [spaCy data format](https://spacy.io/api/data-formats#json-input)\n",
    "  - Based on the doc, JSON training format is dprecated and replaced by the [binary format](https://spacy.io/api/data-formats#binary-training).\n"
   ]
  },
  {
   "cell_type": "code",
   "execution_count": 8,
   "metadata": {},
   "outputs": [
    {
     "name": "stdout",
     "output_type": "stream",
     "text": [
      "\u001b[38;5;4mℹ Auto-detected token-per-line NER format\u001b[0m\n",
      "\u001b[38;5;3m⚠ Document delimiters found, automatic document segmentation with `-n`\n",
      "disabled.\u001b[0m\n",
      "\u001b[38;5;2m✔ Generated output file (1 documents): data/train.json\u001b[0m\n",
      "\u001b[38;5;4mℹ Auto-detected token-per-line NER format\u001b[0m\n",
      "\u001b[38;5;3m⚠ Document delimiters found, automatic document segmentation with `-n`\n",
      "disabled.\u001b[0m\n",
      "\u001b[38;5;2m✔ Generated output file (1 documents): data/test.json\u001b[0m\n"
     ]
    }
   ],
   "source": [
    "# Convert the IOB file exported from the UBIAI annotation tool to spacy JSON\n",
    "!python -m spacy convert data/train.tsv ./data -t json -n 1 -c iob\n",
    "!python -m spacy convert data/test.tsv ./data -t json -n 1 -c iob"
   ]
  },
  {
   "cell_type": "code",
   "execution_count": 9,
   "metadata": {},
   "outputs": [
    {
     "name": "stdout",
     "output_type": "stream",
     "text": [
      "\u001b[38;5;2m✔ Generated output file (77 documents): data/train.spacy\u001b[0m\n",
      "\u001b[38;5;2m✔ Generated output file (11 documents): data/test.spacy\u001b[0m\n"
     ]
    }
   ],
   "source": [
    "# Convert JSON to spacy binary file\n",
    "!python -m spacy convert data/train.json ./data -t spacy\n",
    "!python -m spacy convert data/test.json ./data -t spacy"
   ]
  },
  {
   "cell_type": "markdown",
   "metadata": {},
   "source": [
    "## ___Model training___"
   ]
  },
  {
   "cell_type": "markdown",
   "metadata": {},
   "source": [
    "### Generate spacy config\n",
    "\n",
    "[From this page](https://spacy.io/usage/training#quickstart)\n",
    "- Select `ner`, `GPU (transformer)`, `efficiency`\n",
    "- Save as `base_config.cfg` and modify:\n",
    "  - train = \"./data/train.spacy\"\n",
    "  - dev = \"./data/test.spacy\"\n",
    "  - batch_size=512 (default: 128)\n",
    "  - epochs=600 (add in the training section, default: unlimited, 0))"
   ]
  },
  {
   "cell_type": "code",
   "execution_count": null,
   "metadata": {},
   "outputs": [],
   "source": [
    "# Fill default parameters and rename the file as config.cfg\n",
    "!python -m spacy init fill-config base_config.cfg config.cfg"
   ]
  },
  {
   "cell_type": "markdown",
   "metadata": {},
   "source": [
    "### Debug configuration file\n",
    "\n",
    "Complain about:\n",
    "- Low number of examples to train a new pipeline (77)"
   ]
  },
  {
   "cell_type": "code",
   "execution_count": 10,
   "metadata": {},
   "outputs": [
    {
     "name": "stdout",
     "output_type": "stream",
     "text": [
      "\u001b[1m\n",
      "============================ Data file validation ============================\u001b[0m\n",
      "Some weights of the model checkpoint at roberta-base were not used when initializing RobertaModel: ['lm_head.dense.bias', 'lm_head.bias', 'lm_head.layer_norm.weight', 'lm_head.layer_norm.bias', 'lm_head.dense.weight']\n",
      "- This IS expected if you are initializing RobertaModel from the checkpoint of a model trained on another task or with another architecture (e.g. initializing a BertForSequenceClassification model from a BertForPreTraining model).\n",
      "- This IS NOT expected if you are initializing RobertaModel from the checkpoint of a model that you expect to be exactly identical (initializing a BertForSequenceClassification model from a BertForSequenceClassification model).\n",
      "Some weights of RobertaModel were not initialized from the model checkpoint at roberta-base and are newly initialized: ['roberta.pooler.dense.weight', 'roberta.pooler.dense.bias']\n",
      "You should probably TRAIN this model on a down-stream task to be able to use it for predictions and inference.\n",
      "\u001b[38;5;2m✔ Pipeline can be initialized with data\u001b[0m\n",
      "\u001b[38;5;2m✔ Corpus is loadable\u001b[0m\n",
      "\u001b[1m\n",
      "=============================== Training stats ===============================\u001b[0m\n",
      "Language: en\n",
      "Training pipeline: transformer, ner\n",
      "77 training docs\n",
      "11 evaluation docs\n",
      "\u001b[38;5;2m✔ No overlap between training and evaluation data\u001b[0m\n",
      "\u001b[38;5;1m✘ Low number of examples to train a new pipeline (77)\u001b[0m\n",
      "\u001b[1m\n",
      "============================== Vocab & Vectors ==============================\u001b[0m\n",
      "\u001b[38;5;4mℹ 13228 total word(s) in the data (1950 unique)\u001b[0m\n",
      "\u001b[38;5;4mℹ No word vectors present in the package\u001b[0m\n",
      "\u001b[1m\n",
      "========================== Named Entity Recognition ==========================\u001b[0m\n",
      "\u001b[38;5;4mℹ 4 label(s)\u001b[0m\n",
      "0 missing value(s) (tokens with '-' label)\n",
      "\u001b[38;5;2m✔ Good amount of examples for all labels\u001b[0m\n",
      "\u001b[38;5;2m✔ Examples without occurrences available for all labels\u001b[0m\n",
      "\u001b[38;5;2m✔ No entities consisting of or starting/ending with whitespace\u001b[0m\n",
      "\u001b[38;5;2m✔ No entities crossing sentence boundaries\u001b[0m\n",
      "\u001b[1m\n",
      "================================== Summary ==================================\u001b[0m\n",
      "\u001b[38;5;2m✔ 7 checks passed\u001b[0m\n",
      "\u001b[38;5;1m✘ 1 error\u001b[0m\n"
     ]
    }
   ],
   "source": [
    "!python -m spacy debug data config.cfg"
   ]
  },
  {
   "cell_type": "markdown",
   "metadata": {},
   "source": [
    "### Train the model\n",
    "\n",
    "Best model\n",
    "- Saved under folder model-best\n",
    "- Model scores: in `meta.json``inside the model-best folder\n",
    "\n",
    "Tranining pipeline [output](https://support.prodi.gy/t/understanding-the-different-terminology-in-the-command-line-output-of-a-training-pipeline/5719)\n",
    "- E: number of completed epochs\n",
    "- #: Number of iterations, or documents, that were passed through in training\n",
    "  - This number recounts documents even after re-use from an additional epoch. \n",
    "  - For example, if you have 114 training documents, your first epoch will be completed after iteration 114, your second epoch will be completed after iteration 228, etc.\n",
    "- LOSS TRANS: loss value for the transformer component\n",
    "- LOSS NER: loss value for the ner component\n",
    "- ENTS_F: f-score\n",
    "- ENTS_P: precision\n",
    "- ENTS_R: recall\n",
    "- SCORE: evaluation score from 0.0 to 1.0 in two decimal place (rounded). It is based on the training.score_weights that you have defined in config.conf."
   ]
  },
  {
   "cell_type": "code",
   "execution_count": 7,
   "metadata": {},
   "outputs": [
    {
     "data": {
      "text/plain": [
       "(True, 1, 0)"
      ]
     },
     "execution_count": 7,
     "metadata": {},
     "output_type": "execute_result"
    }
   ],
   "source": [
    "cuda.is_available(), cuda.device_count(), cuda.current_device()"
   ]
  },
  {
   "cell_type": "code",
   "execution_count": 8,
   "metadata": {},
   "outputs": [
    {
     "name": "stdout",
     "output_type": "stream",
     "text": [
      "\u001b[38;5;4mℹ Saving to output directory: output\u001b[0m\n",
      "\u001b[38;5;4mℹ Using GPU: 0\u001b[0m\n",
      "\u001b[1m\n",
      "=========================== Initializing pipeline ===========================\u001b[0m\n",
      "Some weights of the model checkpoint at roberta-base were not used when initializing RobertaModel: ['lm_head.dense.bias', 'lm_head.layer_norm.weight', 'lm_head.bias', 'lm_head.layer_norm.bias', 'lm_head.dense.weight']\n",
      "- This IS expected if you are initializing RobertaModel from the checkpoint of a model trained on another task or with another architecture (e.g. initializing a BertForSequenceClassification model from a BertForPreTraining model).\n",
      "- This IS NOT expected if you are initializing RobertaModel from the checkpoint of a model that you expect to be exactly identical (initializing a BertForSequenceClassification model from a BertForSequenceClassification model).\n",
      "Some weights of RobertaModel were not initialized from the model checkpoint at roberta-base and are newly initialized: ['roberta.pooler.dense.bias', 'roberta.pooler.dense.weight']\n",
      "You should probably TRAIN this model on a down-stream task to be able to use it for predictions and inference.\n",
      "\u001b[38;5;2m✔ Initialized pipeline\u001b[0m\n",
      "\u001b[1m\n",
      "============================= Training pipeline =============================\u001b[0m\n",
      "\u001b[38;5;4mℹ Pipeline: ['transformer', 'ner']\u001b[0m\n",
      "\u001b[38;5;4mℹ Initial learn rate: 0.0\u001b[0m\n",
      "E    #       LOSS TRANS...  LOSS NER  ENTS_F  ENTS_P  ENTS_R  SCORE \n",
      "---  ------  -------------  --------  ------  ------  ------  ------\n",
      "  0       0        1347.07   1804.65   15.74    9.38   48.96    0.16\n",
      " 25     200      202127.26  84099.39   64.96   64.38   65.54    0.65\n",
      " 50     400        5194.38   5185.66   63.20   65.11   61.40    0.63\n",
      " 75     600        2012.19   2010.64   63.70   64.46   62.95    0.64\n",
      "100     800        1579.39   1508.52   63.10   65.19   61.14    0.63\n",
      "125    1000        1328.91   1295.74   64.77   64.52   65.03    0.65\n",
      "150    1200        1238.57   1177.86   66.50   65.90   67.10    0.66\n",
      "175    1400        1168.02   1081.51   63.87   64.55   63.21    0.64\n",
      "200    1600        1181.19   1092.96   64.39   63.03   65.80    0.64\n",
      "225    1800        1230.44   1069.69   66.05   67.11   65.03    0.66\n",
      "250    2000        1126.17    992.33   64.28   63.54   65.03    0.64\n",
      "275    2200        1155.49    984.62   66.24   64.93   67.62    0.66\n",
      "300    2400        1153.77    971.76   64.77   64.52   65.03    0.65\n",
      "325    2600        1151.82    977.54   66.93   68.10   65.80    0.67\n",
      "350    2800        1122.98    931.96   65.36   65.96   64.77    0.65\n",
      "375    3000        1087.44    903.97   66.67   67.55   65.80    0.67\n",
      "400    3200        1127.49    922.06   68.05   67.96   68.13    0.68\n",
      "425    3400        1184.07    948.05   65.52   66.85   64.25    0.66\n",
      "450    3600        1107.07    899.75   65.01   65.78   64.25    0.65\n",
      "475    3800        1198.40    942.63   67.38   69.32   65.54    0.67\n",
      "500    4000        1170.70    916.50   67.52   66.67   68.39    0.68\n",
      "525    4200        1109.44    886.94   65.82   64.59   67.10    0.66\n",
      "550    4400        1117.84    881.55   66.32   66.84   65.80    0.66\n",
      "575    4600        1096.72    877.65   67.42   65.76   69.17    0.67\n",
      "600    4800        1131.87    890.54   67.11   69.34   65.03    0.67\n",
      "\u001b[38;5;2m✔ Saved pipeline to output directory\u001b[0m\n",
      "output/model-last\n"
     ]
    }
   ],
   "source": [
    "!python -m spacy train ./config.cfg --gpu-id 0 --output ./output "
   ]
  },
  {
   "cell_type": "markdown",
   "metadata": {},
   "source": [
    "## ___Test the model___"
   ]
  },
  {
   "cell_type": "code",
   "execution_count": 12,
   "metadata": {},
   "outputs": [
    {
     "name": "stderr",
     "output_type": "stream",
     "text": [
      "/home/shius/miniconda3/envs/torch_spacy/lib/python3.11/site-packages/tqdm/auto.py:21: TqdmWarning: IProgress not found. Please update jupyter and ipywidgets. See https://ipywidgets.readthedocs.io/en/stable/user_install.html\n",
      "  from .autonotebook import tqdm as notebook_tqdm\n"
     ]
    }
   ],
   "source": [
    "nlp = spacy.load('./output/model-best')"
   ]
  },
  {
   "cell_type": "code",
   "execution_count": 13,
   "metadata": {},
   "outputs": [],
   "source": [
    "text = [\n",
    "'''Qualifications\n",
    "   - A thorough understanding of C# and .NET Core\n",
    "   - Knowledge of good database design and usage\n",
    "   - An understanding of NoSQL principles\n",
    "   - Excellent problem solving and critical thinking skills\n",
    "   - Curious about new technologies\n",
    "   - Experience building cloud hosted, scalable web services\n",
    "   - Azure experience is a plusRequirements\n",
    "   - Bachelor's degree in Computer Science or related field(Equivalent experience can substitute for earned educational qualifications)\n",
    "   - Minimum 4 years experience with C# and .NET\n",
    "   - Minimum 4 years overall experience in developing commercial software\n",
    "''']"
   ]
  },
  {
   "cell_type": "code",
   "execution_count": null,
   "metadata": {},
   "outputs": [
    {
     "name": "stdout",
     "output_type": "stream",
     "text": [
      "text:C\t label:SKILLS\n",
      "text:#\t label:SKILLS\n",
      "text:.NET Core\t label:SKILLS\n",
      "text:database design\t label:SKILLS\n",
      "text:usage\t label:SKILLS\n",
      "text:NoSQL\t label:SKILLS\n",
      "text:problem solving\t label:SKILLS\n",
      "text:critical thinking\t label:SKILLS\n",
      "text:building cloud hosted, scalable web services\t label:SKILLS\n",
      "text:Azure\t label:SKILLS\n",
      "text:Bachelor\t label:DIPLOMA\n",
      "text:'s\t label:DIPLOMA\n",
      "text:Computer Science\t label:DIPLOMA_MAJOR\n",
      "text:4 years\t label:EXPERIENCE\n",
      "text:C\t label:SKILLS\n",
      "text:#\t label:SKILLS\n",
      "text:.NET\t label:SKILLS\n",
      "text:4 years\t label:EXPERIENCE\n",
      "text:developing commercial software\t label:SKILLS\n"
     ]
    }
   ],
   "source": [
    "for doc in nlp.pipe(text, disable=[\"tagger\", \"parser\"]):\n",
    "  for ent in doc.ents:\n",
    "    print(f\"text: {ent.text}\\n  label: {ent.label_}\")"
   ]
  },
  {
   "cell_type": "code",
   "execution_count": null,
   "metadata": {},
   "outputs": [],
   "source": []
  }
 ],
 "metadata": {
  "kernelspec": {
   "display_name": "bert_spacy",
   "language": "python",
   "name": "python3"
  },
  "language_info": {
   "codemirror_mode": {
    "name": "ipython",
    "version": 3
   },
   "file_extension": ".py",
   "mimetype": "text/x-python",
   "name": "python",
   "nbconvert_exporter": "python",
   "pygments_lexer": "ipython3",
   "version": "3.11.5"
  },
  "orig_nbformat": 4
 },
 "nbformat": 4,
 "nbformat_minor": 2
}
