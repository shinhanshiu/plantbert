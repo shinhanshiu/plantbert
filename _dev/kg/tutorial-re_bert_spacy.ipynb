{
 "cells": [
  {
   "cell_type": "markdown",
   "metadata": {},
   "source": [
    "# __Train a Joint Entities and Relation Extraction Classifier__\n",
    "\n",
    "- [article](https://towardsdatascience.com/how-to-train-a-joint-entities-and-relation-extraction-classifier-using-bert-transformer-with-spacy-49eb08d91b5c)"
   ]
  },
  {
   "cell_type": "markdown",
   "metadata": {},
   "source": [
    "## ___Setup___\n",
    "\n",
    "The environment and module setup info is in `tutorial_ner_bert_spacy.ipynb` notebook.\n",
    "- `torch_spacy` conda environment"
   ]
  },
  {
   "cell_type": "markdown",
   "metadata": {},
   "source": [
    "### Import packages"
   ]
  },
  {
   "cell_type": "code",
   "execution_count": 1,
   "metadata": {},
   "outputs": [],
   "source": [
    "import os, spacy\n",
    "from pathlib import Path\n",
    "from shutil import copy\n",
    "from torch import cuda"
   ]
  },
  {
   "cell_type": "markdown",
   "metadata": {},
   "source": [
    "### Set up working directories"
   ]
  },
  {
   "cell_type": "code",
   "execution_count": 2,
   "metadata": {},
   "outputs": [
    {
     "data": {
      "text/plain": [
       "'/home/shius/proj_local/joint_ner_re'"
      ]
     },
     "execution_count": 2,
     "metadata": {},
     "output_type": "execute_result"
    }
   ],
   "source": [
    "work_dir = Path.home() / \"proj_local/joint_ner_re\"\n",
    "work_dir.mkdir(parents=True, exist_ok=True)\n",
    "\n",
    "# For NER\n",
    "data_re_dir = work_dir / \"data_re\"\n",
    "\n",
    "os.chdir(work_dir)\n",
    "os.getcwd()"
   ]
  },
  {
   "cell_type": "markdown",
   "metadata": {},
   "source": [
    "## ___Intro___\n",
    "\n",
    "Relation extraction model is a classifier\n",
    "- Predicts a relation r for a given pair of entity {e1, e2}.\n",
    "- In case of transformers, this classifier is added on top of the output hidden states.\n",
    "\n",
    "Pretrained model\n",
    "- roberta-base\n",
    "\n",
    "Goal here is to extract the relationship between:\n",
    "- {Experience, Skills} as Experience_in,\n",
    "- {Diploma, Diploma_major} as Degree_in. "
   ]
  },
  {
   "cell_type": "markdown",
   "metadata": {},
   "source": [
    "## ___Data___"
   ]
  },
  {
   "cell_type": "markdown",
   "metadata": {},
   "source": [
    "#### Clone repo with RE data"
   ]
  },
  {
   "cell_type": "code",
   "execution_count": 3,
   "metadata": {},
   "outputs": [
    {
     "name": "stdout",
     "output_type": "stream",
     "text": [
      "Cloning into 'relation_extraction_transformer'...\n",
      "remote: Enumerating objects: 34, done.\u001b[K\n",
      "remote: Counting objects: 100% (34/34), done.\u001b[K\n",
      "remote: Compressing objects: 100% (34/34), done.\u001b[K\n",
      "remote: Total 34 (delta 11), reused 0 (delta 0), pack-reused 0\u001b[K\n",
      "Unpacking objects: 100% (34/34), 439.36 KiB | 6.10 MiB/s, done.\n"
     ]
    }
   ],
   "source": [
    "!git clone https://github.com/walidamamou/relation_extraction_transformer"
   ]
  },
  {
   "cell_type": "code",
   "execution_count": 4,
   "metadata": {},
   "outputs": [],
   "source": [
    "os.rename(\"relation_extraction_transformer\", \"data_re\")"
   ]
  },
  {
   "cell_type": "markdown",
   "metadata": {},
   "source": [
    "#### Clone spacy’s relation extraction repo\n",
    "\n",
    "Move relevant datasets\n",
    "- Create a folder with the name “data” inside rel_component\n",
    "- Copy the training, dev and test binary files into it:"
   ]
  },
  {
   "cell_type": "code",
   "execution_count": 5,
   "metadata": {},
   "outputs": [
    {
     "name": "stdout",
     "output_type": "stream",
     "text": [
      "\u001b[38;5;2m✔ Cloned 'tutorials/rel_component' from 'explosion/projects' (branch\n",
      "'v3')\u001b[0m\n",
      "/home/shius/proj_local/joint_ner_re/rel_component\n",
      "\u001b[38;5;2m✔ Your project is now ready!\u001b[0m\n",
      "To fetch the assets, run:\n",
      "python -m spacy project assets /home/shius/proj_local/joint_ner_re/rel_component\n"
     ]
    }
   ],
   "source": [
    "!python -m spacy project clone tutorials/rel_component"
   ]
  },
  {
   "cell_type": "code",
   "execution_count": 10,
   "metadata": {},
   "outputs": [
    {
     "data": {
      "text/plain": [
       "PosixPath('/home/shius/proj_local/joint_ner_re/rel_component/data/relations_test.spacy')"
      ]
     },
     "execution_count": 10,
     "metadata": {},
     "output_type": "execute_result"
    }
   ],
   "source": [
    "# destination data dir\n",
    "dir_rel_comp = work_dir / \"rel_component\"\n",
    "dir_rel_comp.mkdir(parents=True, exist_ok=True)\n",
    "\n",
    "# file names\n",
    "file_dev   = \"relations_dev.spacy\"\n",
    "file_train = \"relations_training.spacy\"\n",
    "file_test  = \"relations_test.spacy\"\n",
    "\n",
    "copy(data_re_dir / file_dev,   dir_rel_comp / \"data\" / file_dev)\n",
    "copy(data_re_dir / file_train, dir_rel_comp / \"data\" / file_train)\n",
    "copy(data_re_dir / file_test,  dir_rel_comp / \"data\" / file_test)"
   ]
  },
  {
   "cell_type": "markdown",
   "metadata": {},
   "source": [
    "### Update config file\n",
    "\n",
    "`project.yml` in dir_rel_comp, change the following:\n",
    "- train_file: \"data/relations_train.spacy\"\n",
    "- dev_file: \"data/relations_dev.spacy\"\n",
    "- test_file: \"data/relations_test.spacy\"\n",
    "\n",
    "`rel_trf.cfg` in dir_rel_comp / configs, change:\n",
    "- max_length = 20"
   ]
  },
  {
   "cell_type": "markdown",
   "metadata": {},
   "source": [
    "## ___spacy RE pipeline___\n",
    "\n",
    "See [Github readme](https://github.com/explosion/projects/tree/v3/tutorials/rel_component)\n",
    "\n",
    "The following three steps can also be done by:\n",
    "- `spacy project run all_gpu`"
   ]
  },
  {
   "cell_type": "markdown",
   "metadata": {},
   "source": [
    "### data step\n",
    "\n",
    "Parse annotations"
   ]
  },
  {
   "cell_type": "code",
   "execution_count": 11,
   "metadata": {},
   "outputs": [
    {
     "data": {
      "text/plain": [
       "'/home/shius/proj_local/joint_ner_re/rel_component'"
      ]
     },
     "execution_count": 11,
     "metadata": {},
     "output_type": "execute_result"
    }
   ],
   "source": [
    "os.chdir(dir_rel_comp)\n",
    "os.getcwd()"
   ]
  },
  {
   "cell_type": "code",
   "execution_count": 13,
   "metadata": {},
   "outputs": [
    {
     "name": "stdout",
     "output_type": "stream",
     "text": [
      "\u001b[1m\n",
      "==================================== data ====================================\u001b[0m\n",
      "Running command: /home/shius/miniconda3/envs/torch_spacy/bin/python ./scripts/parse_data.py assets/annotations.jsonl data/relations_train.spacy data/relations_dev.spacy data/relations_test.spacy\n",
      "\u001b[38;5;4mℹ 102 training sentences from 43 articles, 209/2346 pos instances.\u001b[0m\n",
      "\u001b[38;5;4mℹ 27 dev sentences from 5 articles, 56/710 pos instances.\u001b[0m\n",
      "\u001b[38;5;4mℹ 20 test sentences from 6 articles, 30/340 pos instances.\u001b[0m\n"
     ]
    }
   ],
   "source": [
    "# The original article did not specify this\n",
    "!spacy project run data"
   ]
  },
  {
   "cell_type": "markdown",
   "metadata": {},
   "source": [
    "### train_gpu\n",
    "\n",
    "Train the REL model with a Transformer on a GPU and evaluate on the dev corpus."
   ]
  },
  {
   "cell_type": "code",
   "execution_count": 14,
   "metadata": {},
   "outputs": [
    {
     "name": "stdout",
     "output_type": "stream",
     "text": [
      "\u001b[1m\n",
      "================================= train_gpu =================================\u001b[0m\n",
      "Running command: /home/shius/miniconda3/envs/torch_spacy/bin/python -m spacy train configs/rel_trf.cfg --output training --paths.train data/relations_train.spacy --paths.dev data/relations_dev.spacy -c ./scripts/custom_functions.py --gpu-id 0\n",
      "\u001b[38;5;4mℹ Saving to output directory: training\u001b[0m\n",
      "\u001b[38;5;4mℹ Using GPU: 0\u001b[0m\n",
      "\u001b[1m\n",
      "=========================== Initializing pipeline ===========================\u001b[0m\n",
      "Some weights of the model checkpoint at roberta-base were not used when initializing RobertaModel: ['lm_head.bias', 'lm_head.layer_norm.weight', 'lm_head.layer_norm.bias', 'lm_head.dense.weight', 'lm_head.dense.bias']\n",
      "- This IS expected if you are initializing RobertaModel from the checkpoint of a model trained on another task or with another architecture (e.g. initializing a BertForSequenceClassification model from a BertForPreTraining model).\n",
      "- This IS NOT expected if you are initializing RobertaModel from the checkpoint of a model that you expect to be exactly identical (initializing a BertForSequenceClassification model from a BertForSequenceClassification model).\n",
      "Some weights of RobertaModel were not initialized from the model checkpoint at roberta-base and are newly initialized: ['roberta.pooler.dense.weight', 'roberta.pooler.dense.bias']\n",
      "You should probably TRAIN this model on a down-stream task to be able to use it for predictions and inference.\n",
      "\u001b[38;5;2m✔ Initialized pipeline\u001b[0m\n",
      "\u001b[1m\n",
      "============================= Training pipeline =============================\u001b[0m\n",
      "\u001b[38;5;4mℹ Pipeline: ['transformer', 'relation_extractor']\u001b[0m\n",
      "\u001b[38;5;4mℹ Initial learn rate: 0.0\u001b[0m\n",
      "E    #       LOSS TRANS...  LOSS RELAT...  REL_MICRO_P  REL_MICRO_R  REL_MICRO_F  SCORE \n",
      "---  ------  -------------  -------------  -----------  -----------  -----------  ------\n",
      "  0       0           0.13           0.68        11.87       100.00        21.22    0.21\n",
      " 33     100          15.67          19.80        63.64        67.31        65.42    0.65\n",
      " 66     200           0.12           0.64        75.00        63.46        68.75    0.69\n",
      "100     300           0.03           0.21        77.27        65.38        70.83    0.71\n",
      "133     400           0.00           0.12        74.42        61.54        67.37    0.67\n",
      "166     500           0.00           0.11        72.73        61.54        66.67    0.67\n",
      "200     600           0.00           0.11        74.42        61.54        67.37    0.67\n",
      "233     700           0.00           0.11        71.74        63.46        67.35    0.67\n",
      "266     800           0.00           0.11        70.21        63.46        66.67    0.67\n",
      "300     900           0.00           0.11        71.11        61.54        65.98    0.66\n",
      "333    1000           0.00           0.11        69.57        61.54        65.31    0.65\n",
      "\u001b[38;5;2m✔ Saved pipeline to output directory\u001b[0m\n",
      "training/model-last\n"
     ]
    }
   ],
   "source": [
    "!spacy project run train_gpu"
   ]
  },
  {
   "cell_type": "markdown",
   "metadata": {},
   "source": [
    "### evaluate\n",
    "\n",
    "Apply the best model to new, unseen text, and measure accuracy at different thresholds."
   ]
  },
  {
   "cell_type": "code",
   "execution_count": 15,
   "metadata": {},
   "outputs": [
    {
     "name": "stdout",
     "output_type": "stream",
     "text": [
      "\u001b[1m\n",
      "================================== evaluate ==================================\u001b[0m\n",
      "Running command: /home/shius/miniconda3/envs/torch_spacy/bin/python ./scripts/evaluate.py training/model-best data/relations_test.spacy False\n",
      "\u001b[38;5;4mℹ Could not determine any instances in doc - returning doc as is.\u001b[0m\n",
      "\n",
      "Random baseline:\n",
      "threshold 0.00 \t {'rel_micro_p': '15.22', 'rel_micro_r': '100.00', 'rel_micro_f': '26.42'}\n",
      "threshold 0.05 \t {'rel_micro_p': '15.64', 'rel_micro_r': '100.00', 'rel_micro_f': '27.05'}\n",
      "threshold 0.10 \t {'rel_micro_p': '15.38', 'rel_micro_r': '92.86', 'rel_micro_f': '26.40'}\n",
      "threshold 0.20 \t {'rel_micro_p': '14.10', 'rel_micro_r': '78.57', 'rel_micro_f': '23.91'}\n",
      "threshold 0.30 \t {'rel_micro_p': '14.71', 'rel_micro_r': '71.43', 'rel_micro_f': '24.39'}\n",
      "threshold 0.40 \t {'rel_micro_p': '14.75', 'rel_micro_r': '64.29', 'rel_micro_f': '24.00'}\n",
      "threshold 0.50 \t {'rel_micro_p': '18.28', 'rel_micro_r': '60.71', 'rel_micro_f': '28.10'}\n",
      "threshold 0.60 \t {'rel_micro_p': '19.44', 'rel_micro_r': '50.00', 'rel_micro_f': '28.00'}\n",
      "threshold 0.70 \t {'rel_micro_p': '20.37', 'rel_micro_r': '39.29', 'rel_micro_f': '26.83'}\n",
      "threshold 0.80 \t {'rel_micro_p': '26.83', 'rel_micro_r': '39.29', 'rel_micro_f': '31.88'}\n",
      "threshold 0.90 \t {'rel_micro_p': '28.00', 'rel_micro_r': '25.00', 'rel_micro_f': '26.42'}\n",
      "threshold 0.99 \t {'rel_micro_p': '0.00', 'rel_micro_r': '0.00', 'rel_micro_f': '0.00'}\n",
      "threshold 1.00 \t {'rel_micro_p': '0.00', 'rel_micro_r': '0.00', 'rel_micro_f': '0.00'}\n",
      "\n",
      "Results of the trained model:\n",
      "threshold 0.00 \t {'rel_micro_p': '15.22', 'rel_micro_r': '100.00', 'rel_micro_f': '26.42'}\n",
      "threshold 0.05 \t {'rel_micro_p': '80.00', 'rel_micro_r': '85.71', 'rel_micro_f': '82.76'}\n",
      "threshold 0.10 \t {'rel_micro_p': '76.92', 'rel_micro_r': '71.43', 'rel_micro_f': '74.07'}\n",
      "threshold 0.20 \t {'rel_micro_p': '83.33', 'rel_micro_r': '71.43', 'rel_micro_f': '76.92'}\n",
      "threshold 0.30 \t {'rel_micro_p': '81.82', 'rel_micro_r': '64.29', 'rel_micro_f': '72.00'}\n",
      "threshold 0.40 \t {'rel_micro_p': '85.00', 'rel_micro_r': '60.71', 'rel_micro_f': '70.83'}\n",
      "threshold 0.50 \t {'rel_micro_p': '89.47', 'rel_micro_r': '60.71', 'rel_micro_f': '72.34'}\n",
      "threshold 0.60 \t {'rel_micro_p': '88.89', 'rel_micro_r': '57.14', 'rel_micro_f': '69.57'}\n",
      "threshold 0.70 \t {'rel_micro_p': '88.89', 'rel_micro_r': '57.14', 'rel_micro_f': '69.57'}\n",
      "threshold 0.80 \t {'rel_micro_p': '88.24', 'rel_micro_r': '53.57', 'rel_micro_f': '66.67'}\n",
      "threshold 0.90 \t {'rel_micro_p': '87.50', 'rel_micro_r': '50.00', 'rel_micro_f': '63.64'}\n",
      "threshold 0.99 \t {'rel_micro_p': '87.50', 'rel_micro_r': '50.00', 'rel_micro_f': '63.64'}\n",
      "threshold 1.00 \t {'rel_micro_p': '100.00', 'rel_micro_r': '21.43', 'rel_micro_f': '35.29'}\n"
     ]
    }
   ],
   "source": [
    "!spacy project run evaluate"
   ]
  },
  {
   "cell_type": "code",
   "execution_count": null,
   "metadata": {},
   "outputs": [],
   "source": []
  }
 ],
 "metadata": {
  "kernelspec": {
   "display_name": "torch_spacy",
   "language": "python",
   "name": "python3"
  },
  "language_info": {
   "codemirror_mode": {
    "name": "ipython",
    "version": 3
   },
   "file_extension": ".py",
   "mimetype": "text/x-python",
   "name": "python",
   "nbconvert_exporter": "python",
   "pygments_lexer": "ipython3",
   "version": "3.11.5"
  },
  "orig_nbformat": 4
 },
 "nbformat": 4,
 "nbformat_minor": 2
}
