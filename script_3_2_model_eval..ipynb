{
 "cells": [
  {
   "cell_type": "markdown",
   "metadata": {},
   "source": [
    "# __3.2. Evaluate model using the PICKLE corpus__\n",
    "\n",
    "Goal:\n",
    "- Mask entities from the Pickle corpus to evaluate model performance\n",
    "\n",
    "Consideraetions:\n",
    "- Only mask unigrams\n",
    "\n",
    "Log:\n",
    "- 11/30/23: \n",
    "   PICKLE dataset is dervied from IOB format data from:\n",
    "    - `hpc.msu.edu:/mnt/research/ShiuLab/serena_kg/PICKLE_250_abstracts_entities_and_relations_FINAL_05Jul2023`\n",
    "  - The derived data is copied from:\n",
    "    - `hpc.msu.edu:/mnt/research/compbiol_shiu/kg/1_data_proc`\n",
    "  - Will eventually move `kg:/1_data_proc/script_1_1_parse_brat.ipynb` to be `3_1` in this repo.\n",
    "    - Moved.\n",
    "  "
   ]
  },
  {
   "cell_type": "markdown",
   "metadata": {},
   "source": [
    "## ___Setup___"
   ]
  },
  {
   "cell_type": "code",
   "execution_count": 1,
   "metadata": {},
   "outputs": [],
   "source": [
    "from pathlib import Path\n",
    "from tqdm import tqdm\n",
    "\n",
    "from spacy.lang.en import English\n",
    "from spacy.tokens import DocBin\n",
    "from spacy.util import compile_infix_regex\n",
    "from spacy.tokenizer import Tokenizer\n",
    "from spacy.lang.char_classes import \\\n",
    "      ALPHA, ALPHA_LOWER, ALPHA_UPPER, CONCAT_QUOTES, LIST_ELLIPSES, LIST_ICONS\n",
    "\n",
    "from datasets import load_dataset\n",
    "from transformers import BertTokenizerFast, BertForMaskedLM, pipeline"
   ]
  },
  {
   "cell_type": "code",
   "execution_count": 2,
   "metadata": {},
   "outputs": [],
   "source": [
    "proj_dir   = Path.home() / \"projects/plantbert\"\n",
    "work_dir   = proj_dir / \"3_eval_with_pickle\"\n",
    "pickle_dir = work_dir / \"pickle\"\n",
    "\n",
    "# Vanilla model\n",
    "dir1       = proj_dir / \"1_vanilla_bert\" \n",
    "model1_dir = dir1 / \"models/\"\n",
    "ckpt1_dir  = model1_dir / \"checkpoint-35500\"\n",
    "\n",
    "# Filtered model"
   ]
  },
  {
   "cell_type": "markdown",
   "metadata": {},
   "source": [
    "## ___Load dataset___"
   ]
  },
  {
   "cell_type": "markdown",
   "metadata": {},
   "source": [
    "### Get PICKLE data\n",
    "\n",
    "Data processed into Spacy format. Obtained with:\n",
    "\n",
    "```bash\n",
    "scp shius@hpc.msu.edu:/mnt/research/compbiol_shiu/kg/1_data_proc/*.spacy ./\n",
    "```\n",
    "\n",
    "Info on saving data can be find in [Training Pipelines & Models](https://spacy.io/usage/training#training-data)\n",
    "- Specifically, the section on [preparing training data](https://spacy.io/usage/training#training-data) indicated that `.spacy` file is saved as a [`DocBin`](https://spacy.io/api/docbin) obj.\n",
    "- Note that the `spacy` files are generated with a custom tokenizer which needs to be loaded."
   ]
  },
  {
   "cell_type": "code",
   "execution_count": 4,
   "metadata": {},
   "outputs": [],
   "source": [
    "nlp = English()\n",
    "nlp.tokenizer = custom_tokenizer(nlp)"
   ]
  },
  {
   "cell_type": "code",
   "execution_count": 5,
   "metadata": {},
   "outputs": [],
   "source": [
    "train_db = DocBin().from_disk(pickle_dir / \"train.spacy\")\n",
    "dev_db   = DocBin().from_disk(pickle_dir / \"dev.spacy\")\n",
    "test_db  = DocBin().from_disk(pickle_dir / \"test.spacy\")"
   ]
  },
  {
   "cell_type": "code",
   "execution_count": 6,
   "metadata": {},
   "outputs": [
    {
     "data": {
      "text/plain": [
       "233"
      ]
     },
     "execution_count": 6,
     "metadata": {},
     "output_type": "execute_result"
    }
   ],
   "source": [
    "docs = [doc for doc in train_db.get_docs(nlp.vocab)] + \\\n",
    "       [doc for doc in dev_db.get_docs(nlp.vocab)] + \\\n",
    "       [doc for doc in test_db.get_docs(nlp.vocab)]\n",
    "len(docs)"
   ]
  },
  {
   "cell_type": "markdown",
   "metadata": {},
   "source": [
    "### Helper function to get masked sentence list"
   ]
  },
  {
   "cell_type": "code",
   "execution_count": 49,
   "metadata": {},
   "outputs": [],
   "source": [
    "def mask_docs(docs):\n",
    "  '''Mask words in docs\n",
    "  Args:\n",
    "    docs (Doc): list of spacy docs with annotations, specifically, PICKLE docs are\n",
    "      used.\n",
    "  Returns:\n",
    "    masked_sents (list): nested list where each sublist contains original token, \n",
    "      and masked sentence\n",
    "  '''\n",
    "\n",
    "  masked_sents = []\n",
    "  for doc in tqdm(docs):\n",
    "    # Build entity dictionary: {start: [end, text, label]}\n",
    "    edict = {}\n",
    "    for ent in doc.ents:\n",
    "      if ent.start not in edict:\n",
    "        edict[ent.start] = [ent.end, ent.text, ent.label_]\n",
    "      else:\n",
    "        print(\"ERR: Duplicate start index\", ent.start)\n",
    "    \n",
    "    test_sent = [] # list of tokens\n",
    "    start_tidx = 0\n",
    "\n",
    "    # Go through each token in the doc\n",
    "    for tidx, token in enumerate(doc):\n",
    "      if token.text != \".\":\n",
    "        test_sent.append(token)\n",
    "      else:\n",
    "        #print(f\"## start_idx={start_idx}, tidx={tidx}\")\n",
    "        #print(sent)\n",
    "\n",
    "        # Go through edict to see if there is anything that need to be masked\n",
    "        #   start_tidx: the WHOLE doc-based index for the start token of this sent.\n",
    "        #   tidx: at this point, the WHOLE doc-based index for \".\" for this sent.\n",
    "        #   sidx below is the WHOE doc-based index for each token in this sent\n",
    "        for sidx in range(start_tidx, tidx):\n",
    "          if sidx in edict:\n",
    "\n",
    "            # unigram entity\n",
    "            if edict[sidx][0] - sidx == 1:\n",
    "              # get a tmp list going because there can be more than one entities\n",
    "              # in the same sentence\n",
    "              test_sent_tmp = [t.text for t in test_sent]\n",
    "\n",
    "              # midx: the token index to mask where the starting index for this\n",
    "              # sent is 0.\n",
    "              midx = sidx - start_tidx\n",
    "              ori_txt = test_sent_tmp[midx]\n",
    "              test_sent_tmp[midx] = \"[MASK]\"\n",
    "\n",
    "              # add masked sentence to list\n",
    "              masked_sents.append([ori_txt, \n",
    "                                   \" \".join(test_sent_tmp)])\n",
    "\n",
    "        # reset variables\n",
    "        test_sent = []\n",
    "        start_tidx = tidx + 1\n",
    "    \n",
    "  return masked_sents"
   ]
  },
  {
   "cell_type": "code",
   "execution_count": 50,
   "metadata": {},
   "outputs": [
    {
     "name": "stderr",
     "output_type": "stream",
     "text": [
      "100%|██████████| 233/233 [00:00<00:00, 8915.18it/s]\n"
     ]
    },
    {
     "data": {
      "text/plain": [
       "2475"
      ]
     },
     "execution_count": 50,
     "metadata": {},
     "output_type": "execute_result"
    }
   ],
   "source": [
    "masked_sents = mask_docs(docs)\n",
    "len(masked_sents)"
   ]
  },
  {
   "cell_type": "code",
   "execution_count": 51,
   "metadata": {},
   "outputs": [
    {
     "data": {
      "text/plain": [
       "[['Bensulfuron-methyl',\n",
       "  '[MASK] ( BSM ) is widely used in paddy soil for weed control'],\n",
       " ['BSM',\n",
       "  'Bensulfuron-methyl ( [MASK] ) is widely used in paddy soil for weed control'],\n",
       " ['BSM',\n",
       "  'In this study , we have found significant effects of [MASK] on the infestation of Bemisia tabaci , Myzus persicae , and Tobacco mosaic virus ( TMV ) in Nicotiana tabacum'],\n",
       " ['TMV',\n",
       "  'In this study , we have found significant effects of BSM on the infestation of Bemisia tabaci , Myzus persicae , and Tobacco mosaic virus ( [MASK] ) in Nicotiana tabacum'],\n",
       " ['BSM', 'The soil was treated with [MASK] before the pest inoculation']]"
      ]
     },
     "execution_count": 51,
     "metadata": {},
     "output_type": "execute_result"
    }
   ],
   "source": [
    "masked_sents[:5]"
   ]
  },
  {
   "cell_type": "markdown",
   "metadata": {},
   "source": [
    "## ___Set up pipeline using plant-bert-vanilla-cased___"
   ]
  },
  {
   "cell_type": "markdown",
   "metadata": {},
   "source": [
    "### Load model, tokenizer"
   ]
  },
  {
   "cell_type": "code",
   "execution_count": 37,
   "metadata": {},
   "outputs": [],
   "source": [
    "model1     = BertForMaskedLM.from_pretrained(ckpt1_dir)\n",
    "tokenizer1 = BertTokenizerFast.from_pretrained(model1_dir)"
   ]
  },
  {
   "cell_type": "markdown",
   "metadata": {},
   "source": [
    "### Set fill mask pipeline"
   ]
  },
  {
   "cell_type": "code",
   "execution_count": 43,
   "metadata": {},
   "outputs": [],
   "source": [
    "fill_mask1 = pipeline(\"fill-mask\", model=model1, tokenizer=tokenizer1)"
   ]
  },
  {
   "cell_type": "markdown",
   "metadata": {},
   "source": [
    "### Fill mask for masked_sents"
   ]
  },
  {
   "cell_type": "code",
   "execution_count": null,
   "metadata": {},
   "outputs": [],
   "source": []
  },
  {
   "cell_type": "markdown",
   "metadata": {},
   "source": [
    "## ___Testing___"
   ]
  },
  {
   "cell_type": "markdown",
   "metadata": {},
   "source": [
    "### Picke doc testing"
   ]
  },
  {
   "cell_type": "code",
   "execution_count": null,
   "metadata": {},
   "outputs": [
    {
     "data": {
      "text/plain": [
       "spacy.tokens.doc.Doc"
      ]
     },
     "metadata": {},
     "output_type": "display_data"
    }
   ],
   "source": [
    "test_doc    = docs[0]\n",
    "type(test_doc)"
   ]
  },
  {
   "cell_type": "code",
   "execution_count": null,
   "metadata": {},
   "outputs": [
    {
     "data": {
      "text/plain": [
       "Bensulfuron-methyl (BSM) is widely used in paddy soil for weed control. BSM residue in the soil has been known to inhibit the growth of sensitive crop plants. However, it is unknown whether BSM residue can affect the agrosystem in general. In this study, we have found significant effects of BSM on the infestation of Bemisia tabaci, Myzus persicae, and Tobacco mosaic virus (TMV) in Nicotiana tabacum. The soil was treated with BSM before the pest inoculation. The herbicide-treated tobaccos showed resistance to B. tabaci, but this resistance could not be detected until 15-day post-infestation when smaller number of adults B. tabaci appeared. In M. persicae assay, the longevity of all development stages of insects, and the fecundity of insects were not significantly affected when feeding on BSM-treated plants. In TMV assay, the BSM treatment also reduced virus-induced lesions in early infection time. However, the titer of TMV in BSM treated plants increased greatly over time and was over 40-fold higher than the mock-infected control plants after 20 days. Further studies showed that BSM treatment increased both jasmonic acid (JA) and salicylic acid (SA) levels in tobacco, as well as the expression of target genes in the JA and SA signaling pathways, such as NtWIPK, NtPR1a, and NtPAL. NtPR1a and NtPAL were initially suppressed after virus-inoculation, while NtRDR1 and NtRDR6, which play a key role in fighting virus infection, only showed up- or were down-regulated 20 days post virus-inoculation. Taken together, our results suggested that BSM residue in the soil may affect the metabolism of important phytohormones such as JA and SA in sensitive plants and consequently affect the plant immune response against infections such as whitefly, aphids, and viruses."
      ]
     },
     "metadata": {},
     "output_type": "display_data"
    }
   ],
   "source": [
    "test_doc"
   ]
  },
  {
   "cell_type": "code",
   "execution_count": null,
   "metadata": {},
   "outputs": [
    {
     "name": "stdout",
     "output_type": "stream",
     "text": [
      "weed control.\n",
      " token= weed 58\n",
      " token= control 63\n",
      " token= . 70\n",
      "adults B. tabaci\n",
      " token= adults 620\n",
      " token= B. 627\n",
      " token= tabaci 630\n"
     ]
    }
   ],
   "source": [
    "# Check behavior of tokenizer\n",
    "test_span1 = test_doc[11:14]\n",
    "test_span2 = test_doc[112:115]\n",
    "\n",
    "# Not period is its own token\n",
    "print(test_span1.text)\n",
    "for token in test_span1:\n",
    "  print(\" token=\", token.text, token.idx)\n",
    "\n",
    "# But in the following case, it is not.\n",
    "print(test_span2.text)\n",
    "for token in test_span2:\n",
    "  print(\" token=\", token.text, token.idx)"
   ]
  },
  {
   "cell_type": "code",
   "execution_count": null,
   "metadata": {},
   "outputs": [
    {
     "name": "stdout",
     "output_type": "stream",
     "text": [
      "Bensulfuron-methyl Organic_compound_other 0 1\n",
      "BSM Organic_compound_other 2 3\n",
      "BSM residue Organic_compound_other 14 16\n",
      "BSM residue Organic_compound_other 37 39\n",
      "BSM Organic_compound_other 56 57\n",
      "Bemisia tabaci Multicellular_organism 61 63\n",
      "Myzus persicae Multicellular_organism 64 66\n",
      "Tobacco mosaic virus Virus 68 71\n",
      "TMV Virus 72 73\n",
      "Nicotiana tabacum Multicellular_organism 75 77\n",
      "BSM Organic_compound_other 83 84\n",
      "tobaccos Multicellular_organism 91 92\n",
      "B. tabaci Multicellular_organism 95 97\n",
      "B. tabaci Multicellular_organism 113 115\n",
      "M. persicae Multicellular_organism 118 120\n",
      "TMV Virus 147 148\n",
      "BSM Organic_compound_other 151 152\n",
      "TMV Virus 167 168\n",
      "BSM Organic_compound_other 169 170\n",
      "BSM Organic_compound_other 194 195\n",
      "jasmonic acid Plant_hormone 198 200\n",
      "JA Plant_hormone 201 202\n",
      "salicylic acid Plant_hormone 204 206\n",
      "SA Plant_hormone 207 208\n",
      "tobacco Multicellular_organism 211 212\n",
      "JA and SA signaling pathways Biochemical_pathway 223 228\n",
      "NtWIPK DNA 231 232\n",
      "NtPR1a DNA 233 234\n",
      "NtPAL DNA 236 237\n",
      "NtPR1a DNA 238 239\n",
      "NtPAL DNA 240 241\n",
      "NtRDR1 DNA 248 249\n",
      "NtRDR6 DNA 250 251\n",
      "BSM residue Organic_compound_other 280 282\n",
      "phytohormones Plant_hormone 291 292\n",
      "JA Plant_hormone 294 295\n",
      "SA Plant_hormone 296 297\n",
      "whitefly Multicellular_organism 311 312\n",
      "aphids Multicellular_organism 313 314\n",
      "viruses Multicellular_organism 316 317\n"
     ]
    }
   ],
   "source": [
    "for ent in test_doc.ents:\n",
    "  print(ent.text, ent.label_, ent.start, ent.end)"
   ]
  },
  {
   "cell_type": "code",
   "execution_count": null,
   "metadata": {},
   "outputs": [
    {
     "data": {
      "text/plain": [
       "(Bemisia, tabaci)"
      ]
     },
     "metadata": {},
     "output_type": "display_data"
    }
   ],
   "source": [
    "test_doc[61], test_doc[62]"
   ]
  },
  {
   "cell_type": "code",
   "execution_count": null,
   "metadata": {},
   "outputs": [],
   "source": [
    "# Build entity dictionary: {start: [end, text, label]}\n",
    "test_edict = {}\n",
    "for ent in test_doc.ents:\n",
    "  if ent.start not in test_edict:\n",
    "    test_edict[ent.start] = [ent.end, ent.text, ent.label_]\n",
    "  else:\n",
    "    print(\"ERR: Duplicate start index\", ent.start)"
   ]
  },
  {
   "cell_type": "code",
   "execution_count": null,
   "metadata": {},
   "outputs": [
    {
     "data": {
      "text/plain": [
       "{0: [1, 'Bensulfuron-methyl', 'Organic_compound_other'],\n",
       " 2: [3, 'BSM', 'Organic_compound_other'],\n",
       " 14: [16, 'BSM residue', 'Organic_compound_other'],\n",
       " 37: [39, 'BSM residue', 'Organic_compound_other'],\n",
       " 56: [57, 'BSM', 'Organic_compound_other'],\n",
       " 61: [63, 'Bemisia tabaci', 'Multicellular_organism'],\n",
       " 64: [66, 'Myzus persicae', 'Multicellular_organism'],\n",
       " 68: [71, 'Tobacco mosaic virus', 'Virus'],\n",
       " 72: [73, 'TMV', 'Virus'],\n",
       " 75: [77, 'Nicotiana tabacum', 'Multicellular_organism'],\n",
       " 83: [84, 'BSM', 'Organic_compound_other'],\n",
       " 91: [92, 'tobaccos', 'Multicellular_organism'],\n",
       " 95: [97, 'B. tabaci', 'Multicellular_organism'],\n",
       " 113: [115, 'B. tabaci', 'Multicellular_organism'],\n",
       " 118: [120, 'M. persicae', 'Multicellular_organism'],\n",
       " 147: [148, 'TMV', 'Virus'],\n",
       " 151: [152, 'BSM', 'Organic_compound_other'],\n",
       " 167: [168, 'TMV', 'Virus'],\n",
       " 169: [170, 'BSM', 'Organic_compound_other'],\n",
       " 194: [195, 'BSM', 'Organic_compound_other'],\n",
       " 198: [200, 'jasmonic acid', 'Plant_hormone'],\n",
       " 201: [202, 'JA', 'Plant_hormone'],\n",
       " 204: [206, 'salicylic acid', 'Plant_hormone'],\n",
       " 207: [208, 'SA', 'Plant_hormone'],\n",
       " 211: [212, 'tobacco', 'Multicellular_organism'],\n",
       " 223: [228, 'JA and SA signaling pathways', 'Biochemical_pathway'],\n",
       " 231: [232, 'NtWIPK', 'DNA'],\n",
       " 233: [234, 'NtPR1a', 'DNA'],\n",
       " 236: [237, 'NtPAL', 'DNA'],\n",
       " 238: [239, 'NtPR1a', 'DNA'],\n",
       " 240: [241, 'NtPAL', 'DNA'],\n",
       " 248: [249, 'NtRDR1', 'DNA'],\n",
       " 250: [251, 'NtRDR6', 'DNA'],\n",
       " 280: [282, 'BSM residue', 'Organic_compound_other'],\n",
       " 291: [292, 'phytohormones', 'Plant_hormone'],\n",
       " 294: [295, 'JA', 'Plant_hormone'],\n",
       " 296: [297, 'SA', 'Plant_hormone'],\n",
       " 311: [312, 'whitefly', 'Multicellular_organism'],\n",
       " 313: [314, 'aphids', 'Multicellular_organism'],\n",
       " 316: [317, 'viruses', 'Multicellular_organism']}"
      ]
     },
     "metadata": {},
     "output_type": "display_data"
    }
   ],
   "source": [
    "test_edict"
   ]
  },
  {
   "cell_type": "code",
   "execution_count": null,
   "metadata": {},
   "outputs": [],
   "source": [
    "# list with masked sentences\n",
    "test_masked_sents = []\n",
    "test_sent = [] # list of tokens\n",
    "start_tidx = 0\n",
    "\n",
    "# Go through each token in the doc\n",
    "for tidx, token in enumerate(test_doc):\n",
    "  if token.text != \".\":\n",
    "    test_sent.append(token)\n",
    "  else:\n",
    "    #print(f\"## start_idx={start_idx}, tidx={tidx}\")\n",
    "    #print(sent)\n",
    "\n",
    "    # Go through edict to see if there is anything that need to be masked\n",
    "    #   start_tidx: the WHOLE doc-based index for the start token of this sent.\n",
    "    #   tidx: at this point, the WHOLE doc-based index for \".\" for this sent.\n",
    "    #   sidx below is the WHOE doc-based index for each token in this sent\n",
    "    for sidx in range(start_tidx, tidx):\n",
    "      if sidx in test_edict:\n",
    "\n",
    "        # unigram entity\n",
    "        if test_edict[sidx][0] - sidx == 1:\n",
    "          # get a tmp list going because there can be more than one entities\n",
    "          # in the same sentence\n",
    "          test_sent_tmp = [t.text for t in test_sent]\n",
    "\n",
    "          # midx: the token index to mask where the starting index for this\n",
    "          # sent is 0.\n",
    "          midx = sidx - start_tidx\n",
    "          test_sent_tmp[midx] = \"[MASK]\"\n",
    "\n",
    "          # add masked sentence to list\n",
    "          test_masked_sents.append(\" \".join(test_sent_tmp))\n",
    "\n",
    "    # reset variables\n",
    "    test_sent = []\n",
    "    start_tidx = tidx + 1\n"
   ]
  },
  {
   "cell_type": "code",
   "execution_count": null,
   "metadata": {},
   "outputs": [
    {
     "data": {
      "text/plain": [
       "['[MASK] ( BSM ) is widely used in paddy soil for weed control',\n",
       " 'Bensulfuron-methyl ( [MASK] ) is widely used in paddy soil for weed control',\n",
       " 'In this study , we have found significant effects of [MASK] on the infestation of Bemisia tabaci , Myzus persicae , and Tobacco mosaic virus ( TMV ) in Nicotiana tabacum',\n",
       " 'In this study , we have found significant effects of BSM on the infestation of Bemisia tabaci , Myzus persicae , and Tobacco mosaic virus ( [MASK] ) in Nicotiana tabacum',\n",
       " 'The soil was treated with [MASK] before the pest inoculation',\n",
       " 'The herbicide-treated [MASK] showed resistance to B. tabaci , but this resistance could not be detected until 15-day post-infestation when smaller number of adults B. tabaci appeared',\n",
       " 'In [MASK] assay , the BSM treatment also reduced virus-induced lesions in early infection time',\n",
       " 'In TMV assay , the [MASK] treatment also reduced virus-induced lesions in early infection time',\n",
       " 'However , the titer of [MASK] in BSM treated plants increased greatly over time and was over 40-fold higher than the mock-infected control plants after 20 days',\n",
       " 'However , the titer of TMV in [MASK] treated plants increased greatly over time and was over 40-fold higher than the mock-infected control plants after 20 days',\n",
       " 'Further studies showed that [MASK] treatment increased both jasmonic acid ( JA ) and salicylic acid ( SA ) levels in tobacco , as well as the expression of target genes in the JA and SA signaling pathways , such as NtWIPK , NtPR1a , and NtPAL',\n",
       " 'Further studies showed that BSM treatment increased both jasmonic acid ( [MASK] ) and salicylic acid ( SA ) levels in tobacco , as well as the expression of target genes in the JA and SA signaling pathways , such as NtWIPK , NtPR1a , and NtPAL',\n",
       " 'Further studies showed that BSM treatment increased both jasmonic acid ( JA ) and salicylic acid ( [MASK] ) levels in tobacco , as well as the expression of target genes in the JA and SA signaling pathways , such as NtWIPK , NtPR1a , and NtPAL',\n",
       " 'Further studies showed that BSM treatment increased both jasmonic acid ( JA ) and salicylic acid ( SA ) levels in [MASK] , as well as the expression of target genes in the JA and SA signaling pathways , such as NtWIPK , NtPR1a , and NtPAL',\n",
       " 'Further studies showed that BSM treatment increased both jasmonic acid ( JA ) and salicylic acid ( SA ) levels in tobacco , as well as the expression of target genes in the JA and SA signaling pathways , such as [MASK] , NtPR1a , and NtPAL',\n",
       " 'Further studies showed that BSM treatment increased both jasmonic acid ( JA ) and salicylic acid ( SA ) levels in tobacco , as well as the expression of target genes in the JA and SA signaling pathways , such as NtWIPK , [MASK] , and NtPAL',\n",
       " 'Further studies showed that BSM treatment increased both jasmonic acid ( JA ) and salicylic acid ( SA ) levels in tobacco , as well as the expression of target genes in the JA and SA signaling pathways , such as NtWIPK , NtPR1a , and [MASK]',\n",
       " '[MASK] and NtPAL were initially suppressed after virus-inoculation , while NtRDR1 and NtRDR6 , which play a key role in fighting virus infection , only showed up- or were down-regulated 20 days post virus-inoculation',\n",
       " 'NtPR1a and [MASK] were initially suppressed after virus-inoculation , while NtRDR1 and NtRDR6 , which play a key role in fighting virus infection , only showed up- or were down-regulated 20 days post virus-inoculation',\n",
       " 'NtPR1a and NtPAL were initially suppressed after virus-inoculation , while [MASK] and NtRDR6 , which play a key role in fighting virus infection , only showed up- or were down-regulated 20 days post virus-inoculation',\n",
       " 'NtPR1a and NtPAL were initially suppressed after virus-inoculation , while NtRDR1 and [MASK] , which play a key role in fighting virus infection , only showed up- or were down-regulated 20 days post virus-inoculation',\n",
       " 'Taken together , our results suggested that BSM residue in the soil may affect the metabolism of important [MASK] such as JA and SA in sensitive plants and consequently affect the plant immune response against infections such as whitefly , aphids , and viruses',\n",
       " 'Taken together , our results suggested that BSM residue in the soil may affect the metabolism of important phytohormones such as [MASK] and SA in sensitive plants and consequently affect the plant immune response against infections such as whitefly , aphids , and viruses',\n",
       " 'Taken together , our results suggested that BSM residue in the soil may affect the metabolism of important phytohormones such as JA and [MASK] in sensitive plants and consequently affect the plant immune response against infections such as whitefly , aphids , and viruses',\n",
       " 'Taken together , our results suggested that BSM residue in the soil may affect the metabolism of important phytohormones such as JA and SA in sensitive plants and consequently affect the plant immune response against infections such as [MASK] , aphids , and viruses',\n",
       " 'Taken together , our results suggested that BSM residue in the soil may affect the metabolism of important phytohormones such as JA and SA in sensitive plants and consequently affect the plant immune response against infections such as whitefly , [MASK] , and viruses',\n",
       " 'Taken together , our results suggested that BSM residue in the soil may affect the metabolism of important phytohormones such as JA and SA in sensitive plants and consequently affect the plant immune response against infections such as whitefly , aphids , and [MASK]']"
      ]
     },
     "metadata": {},
     "output_type": "display_data"
    }
   ],
   "source": [
    "test_masked_sents"
   ]
  },
  {
   "cell_type": "markdown",
   "metadata": {},
   "source": [
    "### Test load tokenizer"
   ]
  },
  {
   "cell_type": "code",
   "execution_count": 38,
   "metadata": {},
   "outputs": [
    {
     "name": "stdout",
     "output_type": "stream",
     "text": [
      "0 [CLS]\n",
      "1 cytokinins\n",
      "2 are\n",
      "3 plant\n",
      "4 hormones\n",
      "5 that\n",
      "6 promote\n",
      "7 cell\n",
      "8 division\n",
      "9 ,\n",
      "10 or\n",
      "11 cytokinesis\n",
      "12 ,\n",
      "13 in\n",
      "14 plant\n",
      "15 roots\n",
      "16 and\n",
      "17 shoots\n",
      "18 .\n",
      "19 [SEP]\n"
     ]
    }
   ],
   "source": [
    "example = \"Cytokinins are plant hormones that promote cell division, or \" +\\\n",
    "          \"cytokinesis, in plant roots and shoots.\"\n",
    "\n",
    "input_ids = tokenizer1(example)[\"input_ids\"]\n",
    "for idx, input_id in enumerate(input_ids):\n",
    "  print(idx, tokenizer1.convert_ids_to_tokens(input_id))"
   ]
  },
  {
   "cell_type": "code",
   "execution_count": 40,
   "metadata": {},
   "outputs": [
    {
     "data": {
      "text/plain": [
       "'cytokinins are plant [MASK] that promote cell division , or cytokinesis , in plant roots and shoots .'"
      ]
     },
     "execution_count": 40,
     "metadata": {},
     "output_type": "execute_result"
    }
   ],
   "source": [
    "test_mask_id = 3\n",
    "test_list = tokenizer1.convert_ids_to_tokens(input_ids)[1:-1]\n",
    "test_list[3] = \"[MASK]\"\n",
    "test_str = \" \".join(test_list)\n",
    "test_str"
   ]
  },
  {
   "cell_type": "code",
   "execution_count": 41,
   "metadata": {},
   "outputs": [
    {
     "data": {
      "text/plain": [
       "20"
      ]
     },
     "execution_count": 41,
     "metadata": {},
     "output_type": "execute_result"
    }
   ],
   "source": [
    "# Even though there is extra spaced added before \",\" and \".\", the number of\n",
    "# tokens remain the same.\n",
    "len(tokenizer1(test_str)[\"input_ids\"])"
   ]
  },
  {
   "cell_type": "code",
   "execution_count": 48,
   "metadata": {},
   "outputs": [
    {
     "name": "stdout",
     "output_type": "stream",
     "text": [
      "[MASK] are plant hormones that promote cell division , or cytokinesis , in plant roots and shoots .\n",
      "  there, score:0.6489\n",
      "  cytokinins, score:0.0486\n",
      "  what, score:0.0454\n",
      "  brassinosteroids, score:0.0294\n",
      "  they, score:0.0230\n",
      "cytokinins are [MASK] hormones that promote cell division , or cytokinesis , in plant roots and shoots .\n",
      "  plant, score:0.7351\n",
      "  the, score:0.0778\n",
      "  endogenous, score:0.0133\n",
      "  common, score:0.0105\n",
      "  important, score:0.0077\n",
      "cytokinins are plant [MASK] that promote cell division , or cytokinesis , in plant roots and shoots .\n",
      "  hormones, score:0.8892\n",
      "  cytokinins, score:0.0284\n",
      "  regulators, score:0.0175\n",
      "  factors, score:0.0079\n",
      "  phytohormones, score:0.0068\n",
      "cytokinins are plant hormones that promote [MASK] division , or cytokinesis , in plant roots and shoots .\n",
      "  cell, score:0.9443\n",
      "  the, score:0.0137\n",
      "  nuclear, score:0.0039\n",
      "  mitotic, score:0.0033\n",
      "  their, score:0.0025\n",
      "cytokinins are plant hormones that promote cell [MASK] , or cytokinesis , in plant roots and shoots .\n",
      "  division, score:0.6188\n",
      "  elongation, score:0.0701\n",
      "  proliferation, score:0.0599\n",
      "  growth, score:0.0438\n",
      "  expansion, score:0.0418\n",
      "cytokinins are plant hormones that promote cell division , or [MASK] , in plant roots and shoots .\n",
      "  indirectly, score:0.0854\n",
      "  not, score:0.0410\n",
      "  also, score:0.0378\n",
      "  elongation, score:0.0323\n",
      "  transport, score:0.0314\n",
      "cytokinins are plant hormones that promote cell division , or cytokinesis , in [MASK] roots and shoots .\n",
      "  both, score:0.5723\n",
      "  the, score:0.1355\n",
      "  arabidopsis, score:0.0501\n",
      "  tobacco, score:0.0278\n",
      "  maize, score:0.0179\n",
      "cytokinins are plant hormones that promote cell division , or cytokinesis , in plant [MASK] and shoots .\n",
      "  roots, score:0.7810\n",
      "  leaves, score:0.0629\n",
      "  shoots, score:0.0336\n",
      "  cells, score:0.0184\n",
      "  stems, score:0.0184\n",
      "cytokinins are plant hormones that promote cell division , or cytokinesis , in plant roots and [MASK] .\n",
      "  leaves, score:0.2745\n",
      "  shoots, score:0.2373\n",
      "  flowers, score:0.0799\n",
      "  stems, score:0.0406\n",
      "  seeds, score:0.0242\n"
     ]
    }
   ],
   "source": [
    "# Based on the token indesx, which include special tokens in 0 and -1 positions\n",
    "to_mask = [1, 3, 4, 7, 8, 11, 14, 15, 17]\n",
    "\n",
    "for mask_idx in to_mask:\n",
    "  input_ids_tmp = input_ids.copy()\n",
    "  input_ids_tmp[mask_idx] = tokenizer1.mask_token_id\n",
    "  txt = \" \".join(tokenizer1.convert_ids_to_tokens(input_ids_tmp)[1:-1])\n",
    "  print(txt)\n",
    "  for pred in fill_mask1(txt):\n",
    "    print(f\"  {pred['token_str']}, score:{pred['score']:.4f}\")"
   ]
  },
  {
   "cell_type": "code",
   "execution_count": null,
   "metadata": {},
   "outputs": [],
   "source": []
  }
 ],
 "metadata": {
  "kernelspec": {
   "display_name": "bert",
   "language": "python",
   "name": "python3"
  },
  "language_info": {
   "codemirror_mode": {
    "name": "ipython",
    "version": 3
   },
   "file_extension": ".py",
   "mimetype": "text/x-python",
   "name": "python",
   "nbconvert_exporter": "python",
   "pygments_lexer": "ipython3",
   "version": "3.11.5"
  }
 },
 "nbformat": 4,
 "nbformat_minor": 2
}
