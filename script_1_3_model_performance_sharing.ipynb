{
 "cells": [
  {
   "cell_type": "markdown",
   "metadata": {},
   "source": [
    "# __1.3. Model performance and sharing__\n",
    "\n",
    "Goal:\n",
    "- Get performance information from saved model directories and plot it.\n",
    "- Share model on hugging face.\n",
    "\n",
    "Log:"
   ]
  },
  {
   "cell_type": "markdown",
   "metadata": {},
   "source": [
    "## ___Setup___"
   ]
  },
  {
   "cell_type": "code",
   "execution_count": 2,
   "metadata": {},
   "outputs": [],
   "source": [
    "import json, pickle\n",
    "import pandas as pd\n",
    "import matplotlib.pyplot as plt\n",
    "from pathlib import Path\n",
    "from huggingface_hub import notebook_login\n",
    "from transformers import BertForMaskedLM, AutoModel, BertTokenizerFast\n",
    "from datasets import load_dataset\n"
   ]
  },
  {
   "cell_type": "code",
   "execution_count": 36,
   "metadata": {},
   "outputs": [],
   "source": [
    "proj_dir  = Path.home() / \"projects/plantbert\"\n",
    "work_dir  = proj_dir / \"1_vanilla_bert\"\n",
    "model_dir = work_dir / \"models/\"               # compressed ckpt folders\n",
    "ckpt_dir  = model_dir / \"checkpoint-35500\"     # ckpt folder\n",
    "data_dir  = work_dir / \"data\"                  # data folder"
   ]
  },
  {
   "cell_type": "markdown",
   "metadata": {},
   "source": [
    "## ___Determine progress using checkpoints___\n",
    "\n",
    "In each checkpoint folder, there is a `trainer_state.json` file with info on:\n",
    "- `epoch`\n",
    "- `global step`\n",
    "- `eval_steps`\n",
    "- `log_history`: point to a list of dictionaries:\n",
    "  - Traing dictionary with keys: \n",
    "    - `epoch`\n",
    "    - `learning_rate``\n",
    "    - `loss`\n",
    "  - Evaluation dictionary:\n",
    "    - `epoch`\n",
    "    - `eval_loss`\n",
    "  - Then the next traing/eval dicts of the next `epoch` value"
   ]
  },
  {
   "cell_type": "markdown",
   "metadata": {},
   "source": [
    "### Parse `trainer_state.json`\n",
    "\n",
    "- [Python tarfile doc](https://docs.python.org/3/library/tarfile.html)\n",
    "- [Extract specific file from tar](https://stackoverflow.com/questions/35865099/python-extracting-specific-files-with-pattern-from-tar-gz-without-extracting-th)\n",
    "- [Convert JSON to dictionary](https://www.geeksforgeeks.org/convert-json-to-dictionary-in-python/#)"
   ]
  },
  {
   "cell_type": "code",
   "execution_count": 5,
   "metadata": {},
   "outputs": [],
   "source": [
    "log_dict = {} # {epoch: {train: loss, eval: loss}}\n",
    "\n",
    "# extract file, note that this will be extracted to where the path was\n",
    "# when the file is tarred. So, this is not right in the directory\n",
    "# specified.\n",
    "ts_file = ckpt_dir / \"trainer_state.json\"\n",
    "\n",
    "# load json into a dictionary\n",
    "trainer_state = json.load(open(ts_file, \"r\"))\n",
    "\n",
    "# In the loaded dictionary, the key log_history points to a list with\n",
    "#   training info in the odd elements,\n",
    "#   evaluation info in the even elements.\n",
    "for idx, log in enumerate(trainer_state[\"log_history\"]):\n",
    "  epoch = log['epoch']\n",
    "  if idx % 2 == 0:\n",
    "    loss = log['loss']\n",
    "    log_dict[epoch] = {\"train\": loss}\n",
    "  else:\n",
    "    loss = log['eval_loss']\n",
    "    log_dict[epoch][\"eval\"] = loss\n",
    "    "
   ]
  },
  {
   "cell_type": "code",
   "execution_count": 8,
   "metadata": {},
   "outputs": [
    {
     "data": {
      "text/plain": [
       "(71, 2)"
      ]
     },
     "execution_count": 8,
     "metadata": {},
     "output_type": "execute_result"
    }
   ],
   "source": [
    "log_df = pd.DataFrame.from_dict(log_dict, orient=\"index\")\n",
    "log_df.shape"
   ]
  },
  {
   "cell_type": "markdown",
   "metadata": {},
   "source": [
    "### Plot losses"
   ]
  },
  {
   "cell_type": "code",
   "execution_count": 11,
   "metadata": {},
   "outputs": [
    {
     "data": {
      "image/png": "[encoded data removed]",
      "text/plain": [
       "<Figure size 640x480 with 1 Axes>"
      ]
     },
     "metadata": {},
     "output_type": "display_data"
    }
   ],
   "source": [
    "fig, ax = plt.subplots()\n",
    "ax.plot(log_df.index, log_df[\"train\"], marker=\".\", label=\"Training\", markersize=5)\n",
    "ax.plot(log_df.index, log_df[\"eval\"], marker=\".\", label=\"Validation\", markersize=5)\n",
    "ax.legend()\n",
    "ax.set_xlabel(\"Epoch\")\n",
    "ax.set_ylabel(\"Loss\")\n",
    "\n",
    "plt.savefig(model_dir / \"loss.pdf\")"
   ]
  },
  {
   "cell_type": "code",
   "execution_count": 12,
   "metadata": {},
   "outputs": [
    {
     "data": {
      "text/html": [
       "<div>\n",
       "<style scoped>\n",
       "    .dataframe tbody tr th:only-of-type {\n",
       "        vertical-align: middle;\n",
       "    }\n",
       "\n",
       "    .dataframe tbody tr th {\n",
       "        vertical-align: top;\n",
       "    }\n",
       "\n",
       "    .dataframe thead th {\n",
       "        text-align: right;\n",
       "    }\n",
       "</style>\n",
       "<table border=\"1\" class=\"dataframe\">\n",
       "  <thead>\n",
       "    <tr style=\"text-align: right;\">\n",
       "      <th></th>\n",
       "      <th>train</th>\n",
       "      <th>eval</th>\n",
       "    </tr>\n",
       "  </thead>\n",
       "  <tbody>\n",
       "    <tr>\n",
       "      <th>28.27</th>\n",
       "      <td>1.8444</td>\n",
       "      <td>1.756066</td>\n",
       "    </tr>\n",
       "    <tr>\n",
       "      <th>28.69</th>\n",
       "      <td>1.8414</td>\n",
       "      <td>1.753098</td>\n",
       "    </tr>\n",
       "    <tr>\n",
       "      <th>29.11</th>\n",
       "      <td>1.8417</td>\n",
       "      <td>1.755720</td>\n",
       "    </tr>\n",
       "    <tr>\n",
       "      <th>29.54</th>\n",
       "      <td>1.8419</td>\n",
       "      <td>1.751816</td>\n",
       "    </tr>\n",
       "    <tr>\n",
       "      <th>29.96</th>\n",
       "      <td>1.8376</td>\n",
       "      <td>1.747604</td>\n",
       "    </tr>\n",
       "  </tbody>\n",
       "</table>\n",
       "</div>"
      ],
      "text/plain": [
       "        train      eval\n",
       "28.27  1.8444  1.756066\n",
       "28.69  1.8414  1.753098\n",
       "29.11  1.8417  1.755720\n",
       "29.54  1.8419  1.751816\n",
       "29.96  1.8376  1.747604"
      ]
     },
     "execution_count": 12,
     "metadata": {},
     "output_type": "execute_result"
    }
   ],
   "source": [
    "log_df.tail()"
   ]
  },
  {
   "cell_type": "markdown",
   "metadata": {},
   "source": [
    "## ___Upload to Huggingface___"
   ]
  },
  {
   "cell_type": "markdown",
   "metadata": {},
   "source": [
    "### Login to Hugging Face\n",
    "\n",
    "See [share a model](https://huggingface.co/docs/transformers/model_sharing) on Hugging Face.\n",
    "- [Get access token](https://huggingface.co/settings/tokens)\n",
    "- Login with `huggingface-cli` in a terminal\n",
    "  - Does not work in Jupyter notebook since it needs to be interactive."
   ]
  },
  {
   "cell_type": "code",
   "execution_count": 16,
   "metadata": {},
   "outputs": [
    {
     "name": "stdout",
     "output_type": "stream",
     "text": [
      "shius\n"
     ]
    }
   ],
   "source": [
    "#!huggingface-cli login\n",
    "\n",
    "!huggingface-cli whoami"
   ]
  },
  {
   "cell_type": "code",
   "execution_count": 18,
   "metadata": {},
   "outputs": [
    {
     "data": {
      "application/vnd.jupyter.widget-view+json": {
       "model_id": "6b06e4d332114b748539dc0655344eb0",
       "version_major": 2,
       "version_minor": 0
      },
      "text/plain": [
       "VBox(children=(HTML(value='<center> <img\\nsrc=https://huggingface.co/front/assets/huggingface_logo-noborder.sv…"
      ]
     },
     "metadata": {},
     "output_type": "display_data"
    }
   ],
   "source": [
    "# Get token from:\n",
    "# https://huggingface.co/settings/tokens\n",
    "notebook_login()"
   ]
  },
  {
   "cell_type": "markdown",
   "metadata": {},
   "source": [
    "### Upload model"
   ]
  },
  {
   "cell_type": "code",
   "execution_count": 20,
   "metadata": {},
   "outputs": [],
   "source": [
    "pt_model = BertForMaskedLM.from_pretrained(ckpt_dir)"
   ]
  },
  {
   "cell_type": "code",
   "execution_count": 27,
   "metadata": {},
   "outputs": [
    {
     "data": {
      "application/vnd.jupyter.widget-view+json": {
       "model_id": "7e1d4a93442f47fa8fcc3447e33b2dcb",
       "version_major": 2,
       "version_minor": 0
      },
      "text/plain": [
       "pytorch_model.bin:   0%|          | 0.00/438M [00:00<?, ?B/s]"
      ]
     },
     "metadata": {},
     "output_type": "display_data"
    },
    {
     "data": {
      "text/plain": [
       "CommitInfo(commit_url='https://huggingface.co/shius/plantbert-vanilla-uncased/commit/85b61b8a9f7110ed940f214bd5dddd8ddad463f6', commit_message='Upload BertForMaskedLM', commit_description='', oid='85b61b8a9f7110ed940f214bd5dddd8ddad463f6', pr_url=None, pr_revision=None, pr_num=None)"
      ]
     },
     "execution_count": 27,
     "metadata": {},
     "output_type": "execute_result"
    }
   ],
   "source": [
    "pt_model.push_to_hub(\"plantbert-vanilla-cased\")"
   ]
  },
  {
   "cell_type": "markdown",
   "metadata": {},
   "source": [
    "### Upload tokenizer"
   ]
  },
  {
   "cell_type": "code",
   "execution_count": 28,
   "metadata": {},
   "outputs": [],
   "source": [
    "tokenizer = BertTokenizerFast.from_pretrained(model_dir)"
   ]
  },
  {
   "cell_type": "code",
   "execution_count": 29,
   "metadata": {},
   "outputs": [
    {
     "data": {
      "text/plain": [
       "CommitInfo(commit_url='https://huggingface.co/shius/plantbert-vanilla-uncased/commit/b727fe51ce0ad80a7a56bdc3d25b9d199f4502d3', commit_message='Upload tokenizer', commit_description='', oid='b727fe51ce0ad80a7a56bdc3d25b9d199f4502d3', pr_url=None, pr_revision=None, pr_num=None)"
      ]
     },
     "execution_count": 29,
     "metadata": {},
     "output_type": "execute_result"
    }
   ],
   "source": [
    "tokenizer.push_to_hub(\"plantbert-vanilla-cased\")"
   ]
  },
  {
   "cell_type": "markdown",
   "metadata": {},
   "source": [
    "### Upload dataset"
   ]
  },
  {
   "cell_type": "code",
   "execution_count": 41,
   "metadata": {},
   "outputs": [],
   "source": [
    "dataset_pkl_file = data_dir / \"d_split.pickle\"\n",
    "\n",
    "with open(dataset_pkl_file, \"rb\") as f:\n",
    "  dataset = pickle.load(f)"
   ]
  },
  {
   "cell_type": "code",
   "execution_count": 42,
   "metadata": {},
   "outputs": [
    {
     "data": {
      "text/plain": [
       "DatasetDict({\n",
       "    train: Dataset({\n",
       "        features: ['text', 'label'],\n",
       "        num_rows: 379176\n",
       "    })\n",
       "    test: Dataset({\n",
       "        features: ['text', 'label'],\n",
       "        num_rows: 42131\n",
       "    })\n",
       "})"
      ]
     },
     "execution_count": 42,
     "metadata": {},
     "output_type": "execute_result"
    }
   ],
   "source": [
    "dataset"
   ]
  },
  {
   "cell_type": "code",
   "execution_count": 43,
   "metadata": {},
   "outputs": [
    {
     "data": {
      "application/vnd.jupyter.widget-view+json": {
       "model_id": "64410c64cf0542599f208cc1c04468bd",
       "version_major": 2,
       "version_minor": 0
      },
      "text/plain": [
       "Pushing dataset shards to the dataset hub:   0%|          | 0/2 [00:00<?, ?it/s]"
      ]
     },
     "metadata": {},
     "output_type": "display_data"
    },
    {
     "data": {
      "application/vnd.jupyter.widget-view+json": {
       "model_id": "ee985bb35c0a47a288acfb860c3ddd74",
       "version_major": 2,
       "version_minor": 0
      },
      "text/plain": [
       "Creating parquet from Arrow format:   0%|          | 0/190 [00:00<?, ?ba/s]"
      ]
     },
     "metadata": {},
     "output_type": "display_data"
    },
    {
     "data": {
      "application/vnd.jupyter.widget-view+json": {
       "model_id": "444539340a7f47b89259e32ec738ee26",
       "version_major": 2,
       "version_minor": 0
      },
      "text/plain": [
       "Creating parquet from Arrow format:   0%|          | 0/190 [00:00<?, ?ba/s]"
      ]
     },
     "metadata": {},
     "output_type": "display_data"
    },
    {
     "data": {
      "application/vnd.jupyter.widget-view+json": {
       "model_id": "3233743dcb174d39ba1e9efe44e1c64b",
       "version_major": 2,
       "version_minor": 0
      },
      "text/plain": [
       "Pushing dataset shards to the dataset hub:   0%|          | 0/1 [00:00<?, ?it/s]"
      ]
     },
     "metadata": {},
     "output_type": "display_data"
    },
    {
     "data": {
      "application/vnd.jupyter.widget-view+json": {
       "model_id": "f005c290edcb4f0a818a0d2cf291d51b",
       "version_major": 2,
       "version_minor": 0
      },
      "text/plain": [
       "Creating parquet from Arrow format:   0%|          | 0/43 [00:00<?, ?ba/s]"
      ]
     },
     "metadata": {},
     "output_type": "display_data"
    }
   ],
   "source": [
    "dataset.push_to_hub(\"plantbert-vanilla-cased\")"
   ]
  },
  {
   "cell_type": "code",
   "execution_count": null,
   "metadata": {},
   "outputs": [],
   "source": []
  }
 ],
 "metadata": {
  "kernelspec": {
   "display_name": "bert",
   "language": "python",
   "name": "python3"
  },
  "language_info": {
   "codemirror_mode": {
    "name": "ipython",
    "version": 3
   },
   "file_extension": ".py",
   "mimetype": "text/x-python",
   "name": "python",
   "nbconvert_exporter": "python",
   "pygments_lexer": "ipython3",
   "version": "3.11.5"
  }
 },
 "nbformat": 4,
 "nbformat_minor": 2
}
